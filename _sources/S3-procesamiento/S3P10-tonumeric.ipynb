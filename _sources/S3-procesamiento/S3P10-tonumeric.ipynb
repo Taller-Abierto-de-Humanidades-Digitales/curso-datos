{
 "cells": [
  {
   "cell_type": "markdown",
   "id": "cd78d6bc",
   "metadata": {},
   "source": [
    "# Asegurar datos numéricos\n",
    "\n",
    "Como vimos en la sección dedicada a [tipos de datos en `pandas`](../S2-estructuras-preparacion/S2P4-dtypes.md), los tipos de datos con los que podremos realizar operaciones son `int64` y `float64`. También vimos que en la mayoría de ocasiones, estos tipos pueden estar expresados en forma de tipo `object`. Incluso, algunos de estos datos están en forma de `string`.\n",
    "\n",
    "```{admonition} Nota\n",
    ":class: note\n",
    "Para este apartado usaré datos de ejemplo porque nuestros conjuntos de datos `muestra_covid` y `geolocalizacion` no necesitan una transformación adicional.\n",
    "\n",
    "Revisa tu conjunto de datos para saber si esta es una operación necesaria o no.\n",
    "```\n",
    "\n",
    "Al igual que en las operaciones anteriores, `pandas` incluye una función que permite convertir los datos a un tipo numérico."
   ]
  },
  {
   "cell_type": "code",
   "execution_count": 1,
   "id": "5b2d91f8",
   "metadata": {},
   "outputs": [
    {
     "name": "stdout",
     "output_type": "stream",
     "text": [
      "object\n"
     ]
    },
    {
     "data": {
      "text/plain": [
       "0    1\n",
       "1    2\n",
       "2    3\n",
       "3    4\n",
       "4    5\n",
       "dtype: int64"
      ]
     },
     "execution_count": 1,
     "metadata": {},
     "output_type": "execute_result"
    }
   ],
   "source": [
    "import pandas as pd\n",
    "s = pd.Series([\"1\", \"2\", \"3\", \"4\", \"5\"])\n",
    "print(s.dtypes)\n",
    "pd.to_numeric(s)"
   ]
  },
  {
   "cell_type": "markdown",
   "id": "1e0ea133",
   "metadata": {},
   "source": [
    "Notarás que cuando llamamos a la función `to_numeric`, los datos se convierten a tipo `int64` y de la misma manera lo puede hacer con cualquier columna que contenga datos numéricos. Sin embargo, no puede hacerlo con todo el dataframe al mismo tiempo, por ejemplo:"
   ]
  },
  {
   "cell_type": "code",
   "execution_count": 2,
   "id": "adf275ac",
   "metadata": {},
   "outputs": [
    {
     "name": "stdout",
     "output_type": "stream",
     "text": [
      "A    object\n",
      "B    object\n",
      "C    object\n",
      "dtype: object\n"
     ]
    },
    {
     "ename": "TypeError",
     "evalue": "arg must be a list, tuple, 1-d array, or Series",
     "output_type": "error",
     "traceback": [
      "\u001b[1;31m---------------------------------------------------------------------------\u001b[0m",
      "\u001b[1;31mTypeError\u001b[0m                                 Traceback (most recent call last)",
      "Input \u001b[1;32mIn [2]\u001b[0m, in \u001b[0;36m<cell line: 3>\u001b[1;34m()\u001b[0m\n\u001b[0;32m      1\u001b[0m df \u001b[38;5;241m=\u001b[39m pd\u001b[38;5;241m.\u001b[39mDataFrame({\u001b[38;5;124m\"\u001b[39m\u001b[38;5;124mA\u001b[39m\u001b[38;5;124m\"\u001b[39m: [\u001b[38;5;124m\"\u001b[39m\u001b[38;5;124mCamila\u001b[39m\u001b[38;5;124m\"\u001b[39m, \u001b[38;5;124m\"\u001b[39m\u001b[38;5;124mSebastián\u001b[39m\u001b[38;5;124m\"\u001b[39m, \u001b[38;5;124m\"\u001b[39m\u001b[38;5;124mSantiago\u001b[39m\u001b[38;5;124m\"\u001b[39m, \u001b[38;5;124m\"\u001b[39m\u001b[38;5;124mJimena\u001b[39m\u001b[38;5;124m\"\u001b[39m, \u001b[38;5;124m\"\u001b[39m\u001b[38;5;124mHannah\u001b[39m\u001b[38;5;124m\"\u001b[39m], \u001b[38;5;124m\"\u001b[39m\u001b[38;5;124mB\u001b[39m\u001b[38;5;124m\"\u001b[39m: [\u001b[38;5;124m\"\u001b[39m\u001b[38;5;124m1.5\u001b[39m\u001b[38;5;124m\"\u001b[39m, \u001b[38;5;124m\"\u001b[39m\u001b[38;5;124m1.2\u001b[39m\u001b[38;5;124m\"\u001b[39m, \u001b[38;5;124m\"\u001b[39m\u001b[38;5;124m2.3\u001b[39m\u001b[38;5;124m\"\u001b[39m, \u001b[38;5;124m\"\u001b[39m\u001b[38;5;124m4.5\u001b[39m\u001b[38;5;124m\"\u001b[39m, \u001b[38;5;124m\"\u001b[39m\u001b[38;5;124m5.6\u001b[39m\u001b[38;5;124m\"\u001b[39m], \u001b[38;5;124m\"\u001b[39m\u001b[38;5;124mC\u001b[39m\u001b[38;5;124m\"\u001b[39m: [\u001b[38;5;124m\"\u001b[39m\u001b[38;5;124m1\u001b[39m\u001b[38;5;124m\"\u001b[39m, \u001b[38;5;124m\"\u001b[39m\u001b[38;5;124m2\u001b[39m\u001b[38;5;124m\"\u001b[39m, \u001b[38;5;124m\"\u001b[39m\u001b[38;5;124m3\u001b[39m\u001b[38;5;124m\"\u001b[39m, \u001b[38;5;124m\"\u001b[39m\u001b[38;5;124m4\u001b[39m\u001b[38;5;124m\"\u001b[39m, \u001b[38;5;124m\"\u001b[39m\u001b[38;5;124m5\u001b[39m\u001b[38;5;124m\"\u001b[39m]})\n\u001b[0;32m      2\u001b[0m \u001b[38;5;28mprint\u001b[39m(df\u001b[38;5;241m.\u001b[39mdtypes)\n\u001b[1;32m----> 3\u001b[0m \u001b[43mpd\u001b[49m\u001b[38;5;241;43m.\u001b[39;49m\u001b[43mto_numeric\u001b[49m\u001b[43m(\u001b[49m\u001b[43mdf\u001b[49m\u001b[43m)\u001b[49m\n",
      "File \u001b[1;32mc:\\users\\jairo\\.virtualenvs\\temp\\lib\\site-packages\\pandas\\core\\tools\\numeric.py:141\u001b[0m, in \u001b[0;36mto_numeric\u001b[1;34m(arg, errors, downcast)\u001b[0m\n\u001b[0;32m    139\u001b[0m     values \u001b[38;5;241m=\u001b[39m np\u001b[38;5;241m.\u001b[39marray([arg], dtype\u001b[38;5;241m=\u001b[39m\u001b[38;5;124m\"\u001b[39m\u001b[38;5;124mO\u001b[39m\u001b[38;5;124m\"\u001b[39m)\n\u001b[0;32m    140\u001b[0m \u001b[38;5;28;01melif\u001b[39;00m \u001b[38;5;28mgetattr\u001b[39m(arg, \u001b[38;5;124m\"\u001b[39m\u001b[38;5;124mndim\u001b[39m\u001b[38;5;124m\"\u001b[39m, \u001b[38;5;241m1\u001b[39m) \u001b[38;5;241m>\u001b[39m \u001b[38;5;241m1\u001b[39m:\n\u001b[1;32m--> 141\u001b[0m     \u001b[38;5;28;01mraise\u001b[39;00m \u001b[38;5;167;01mTypeError\u001b[39;00m(\u001b[38;5;124m\"\u001b[39m\u001b[38;5;124marg must be a list, tuple, 1-d array, or Series\u001b[39m\u001b[38;5;124m\"\u001b[39m)\n\u001b[0;32m    142\u001b[0m \u001b[38;5;28;01melse\u001b[39;00m:\n\u001b[0;32m    143\u001b[0m     values \u001b[38;5;241m=\u001b[39m arg\n",
      "\u001b[1;31mTypeError\u001b[0m: arg must be a list, tuple, 1-d array, or Series"
     ]
    }
   ],
   "source": [
    "df = pd.DataFrame({\"A\": [\"Camila\", \"Sebastián\", \"Santiago\", \"Jimena\", \"Hannah\"], \"B\": [\"1.5\", \"1.2\", \"2.3\", \"4.5\", \"5.6\"], \"C\": [\"1\", \"2\", \"3\", \"4\", \"5\"]})\n",
    "print(df.dtypes)\n",
    "pd.to_numeric(df)"
   ]
  },
  {
   "cell_type": "markdown",
   "id": "9a35094e",
   "metadata": {},
   "source": [
    "Lo anterior nos arroja un `TypeError` porque `pandas` estaba esperando una `Serie`, es decir, el conjunto de datos de una sola columna.\n",
    "\n",
    "Para transformar estos datos podemos utilizar el método tradicional de `for loop` así:"
   ]
  },
  {
   "cell_type": "code",
   "execution_count": 3,
   "id": "766b7c9e",
   "metadata": {},
   "outputs": [
    {
     "data": {
      "text/plain": [
       "A     object\n",
       "B    float64\n",
       "C      int64\n",
       "dtype: object"
      ]
     },
     "execution_count": 3,
     "metadata": {},
     "output_type": "execute_result"
    }
   ],
   "source": [
    "for col in df.columns:\n",
    "  try:\n",
    "    df[col] = pd.to_numeric(df[col])\n",
    "  except ValueError:\n",
    "    pass\n",
    "\n",
    "df.dtypes"
   ]
  },
  {
   "cell_type": "markdown",
   "id": "b66c7e39",
   "metadata": {},
   "source": [
    "El problema con este método es que es un poco lento. De hecho, en un conjunto de datos como `covid_nacional` tomaría muchos minutos y gastaría mucha memoria, tanto que podría simplemente bloquear la computadora.\n",
    "\n",
    "En términos de eficiencia es mejor utilizar el método de `pandas` `apply()`. Veremos un poco más sobre el uso de este método en la sección dedicada a [`apply()`](../S3-procesamiento/S3P14-apply.md), pero por lo pronto veremos un ejemplo de como usarlo."
   ]
  },
  {
   "cell_type": "code",
   "execution_count": 4,
   "id": "03dbc5a3",
   "metadata": {},
   "outputs": [
    {
     "data": {
      "text/plain": [
       "A     object\n",
       "B    float64\n",
       "C      int64\n",
       "dtype: object"
      ]
     },
     "execution_count": 4,
     "metadata": {},
     "output_type": "execute_result"
    }
   ],
   "source": [
    "df = pd.DataFrame({\"A\": [\"Camila\", \"Sebastián\", \"Santiago\", \"Jimena\", \"Hannah\"], \"B\": [\"1.5\", \"1.2\", \"2.3\", \"4.5\", \"5.6\"], \"C\": [\"1\", \"2\", \"3\", \"4\", \"5\"]})\n",
    "cols = df.columns.drop('A') # Eliminamos la columna que sabemos tiene valores de texto\n",
    "df[cols] = df[cols].apply(pd.to_numeric)\n",
    "df.dtypes"
   ]
  },
  {
   "cell_type": "markdown",
   "id": "d2947294",
   "metadata": {},
   "source": [
    "```{admonition} Observación\n",
    ":class: tip\n",
    "La conversión de datos numéricos, así como la de fechas, que veremos a continuación, es una operación que se realiza sobre una sola columna. Por esa razón es importante que hayas realizado previamente la [identificación de tipos de datos](../S2-estructuras-preparacion/S2P4-dtypes.md).\n",
    "```"
   ]
  }
 ],
 "metadata": {
  "jupytext": {
   "cell_metadata_filter": "-all",
   "formats": "md:myst",
   "text_representation": {
    "extension": ".md",
    "format_name": "myst",
    "format_version": 0.13,
    "jupytext_version": "1.14.0"
   }
  },
  "kernelspec": {
   "display_name": "Python 3 (ipykernel)",
   "language": "python",
   "name": "python3"
  },
  "language_info": {
   "codemirror_mode": {
    "name": "ipython",
    "version": 3
   },
   "file_extension": ".py",
   "mimetype": "text/x-python",
   "name": "python",
   "nbconvert_exporter": "python",
   "pygments_lexer": "ipython3",
   "version": "3.8.3"
  },
  "source_map": [
   14,
   29,
   34,
   38,
   42,
   48,
   56,
   62,
   67
  ]
 },
 "nbformat": 4,
 "nbformat_minor": 5
}