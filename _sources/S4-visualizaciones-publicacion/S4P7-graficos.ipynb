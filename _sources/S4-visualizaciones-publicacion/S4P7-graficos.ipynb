{
 "cells": [
  {
   "cell_type": "markdown",
   "id": "c29be26b",
   "metadata": {},
   "source": [
    "# Gráficos\n",
    "\n",
    "Vamos manos a la obra. En las secciones anteriores vimos algunas de las precauciones que debemos tener en cuenta antes o durante la creación de visualizaciones. Ahora, vamos a hacer algunas. Para ello, nos vamos a apoyar en dos librerías de Python: `matplotlib` y `plotly`.\n",
    "\n",
    "Vamos a aprovechar los datos que ya procesamos en la sección [Bases para la visualización de datos](./S4P2-claves-visualizacion.md)"
   ]
  },
  {
   "cell_type": "code",
   "execution_count": 1,
   "id": "e420c67e",
   "metadata": {
    "tags": [
     "remove-cell"
    ]
   },
   "outputs": [],
   "source": [
    "import pandas as pd\n",
    "ruta_datos = '../data/covid_clean.csv'\n",
    "datos_covid = pd.read_csv(ruta_datos)\n",
    "datos_covid['decesos'] = datos_covid['fecha_def'].apply(lambda x: 1 if pd.notnull(x) else 0)\n",
    "muertes_diarias = datos_covid.groupby('fecha_def')['decesos'].sum().reset_index(name='fallecidos_diarios')"
   ]
  },
  {
   "cell_type": "markdown",
   "id": "7310db62",
   "metadata": {},
   "source": [
    "## `matplotlib`\n",
    "\n",
    "`matplotlib` es una librería de Python que nos permite crear visualizaciones de datos. Es una de las librerías más populares para este propósito. En esta sección vamos a ver cómo crear algunos gráficos con esta librería.\n",
    "\n",
    "### Gráfico de barras\n",
    "\n",
    "Vamos a crear un gráfico de barras que nos permita comparar la cantidad de fallecidos diarios en México durante el primer semestre de 2022."
   ]
  },
  {
   "cell_type": "code",
   "execution_count": 2,
   "id": "51b8a378",
   "metadata": {},
   "outputs": [
    {
     "ename": "ModuleNotFoundError",
     "evalue": "No module named 'matplotlib'",
     "output_type": "error",
     "traceback": [
      "\u001b[1;31m---------------------------------------------------------------------------\u001b[0m",
      "\u001b[1;31mModuleNotFoundError\u001b[0m                       Traceback (most recent call last)",
      "Input \u001b[1;32mIn [2]\u001b[0m, in \u001b[0;36m<cell line: 1>\u001b[1;34m()\u001b[0m\n\u001b[1;32m----> 1\u001b[0m \u001b[38;5;28;01mimport\u001b[39;00m \u001b[38;5;21;01mmatplotlib\u001b[39;00m\u001b[38;5;21;01m.\u001b[39;00m\u001b[38;5;21;01mpyplot\u001b[39;00m \u001b[38;5;28;01mas\u001b[39;00m \u001b[38;5;21;01mplt\u001b[39;00m\n",
      "\u001b[1;31mModuleNotFoundError\u001b[0m: No module named 'matplotlib'"
     ]
    }
   ],
   "source": [
    "import matplotlib.pyplot as plt"
   ]
  },
  {
   "cell_type": "code",
   "execution_count": 3,
   "id": "182f73ae",
   "metadata": {},
   "outputs": [
    {
     "ename": "NameError",
     "evalue": "name 'plt' is not defined",
     "output_type": "error",
     "traceback": [
      "\u001b[1;31m---------------------------------------------------------------------------\u001b[0m",
      "\u001b[1;31mNameError\u001b[0m                                 Traceback (most recent call last)",
      "Input \u001b[1;32mIn [3]\u001b[0m, in \u001b[0;36m<cell line: 9>\u001b[1;34m()\u001b[0m\n\u001b[0;32m      6\u001b[0m muertes_diarias[\u001b[38;5;124m'\u001b[39m\u001b[38;5;124mfecha_def\u001b[39m\u001b[38;5;124m'\u001b[39m] \u001b[38;5;241m=\u001b[39m muertes_diarias[\u001b[38;5;124m'\u001b[39m\u001b[38;5;124mfecha_def\u001b[39m\u001b[38;5;124m'\u001b[39m]\u001b[38;5;241m.\u001b[39mdt\u001b[38;5;241m.\u001b[39mstrftime(\u001b[38;5;124m'\u001b[39m\u001b[38;5;132;01m%d\u001b[39;00m\u001b[38;5;124m/\u001b[39m\u001b[38;5;124m%\u001b[39m\u001b[38;5;124mm/\u001b[39m\u001b[38;5;124m%\u001b[39m\u001b[38;5;124mY\u001b[39m\u001b[38;5;124m'\u001b[39m)\n\u001b[0;32m      8\u001b[0m \u001b[38;5;66;03m# creamos el gráfico\u001b[39;00m\n\u001b[1;32m----> 9\u001b[0m fig, ax \u001b[38;5;241m=\u001b[39m \u001b[43mplt\u001b[49m\u001b[38;5;241m.\u001b[39msubplots(figsize\u001b[38;5;241m=\u001b[39m(\u001b[38;5;241m10\u001b[39m, \u001b[38;5;241m6\u001b[39m))\n\u001b[0;32m     10\u001b[0m ax\u001b[38;5;241m.\u001b[39mbar(muertes_diarias[\u001b[38;5;124m'\u001b[39m\u001b[38;5;124mfecha_def\u001b[39m\u001b[38;5;124m'\u001b[39m], muertes_diarias[\u001b[38;5;124m'\u001b[39m\u001b[38;5;124mfallecidos_diarios\u001b[39m\u001b[38;5;124m'\u001b[39m])\n\u001b[0;32m     11\u001b[0m ax\u001b[38;5;241m.\u001b[39mset_title(\u001b[38;5;124m'\u001b[39m\u001b[38;5;124mFallecidos diarios en México (primer semestre 2022)\u001b[39m\u001b[38;5;124m'\u001b[39m)\n",
      "\u001b[1;31mNameError\u001b[0m: name 'plt' is not defined"
     ]
    }
   ],
   "source": [
    "# retomamos el dataframe que creamos en la sección anterior `muertes_diarias`\n",
    "muertes_diarias['fecha_def'] = pd.to_datetime(muertes_diarias['fecha_def'])\n",
    "# este paso **no es necesario**, pero nos servirá para hacer más legible las fechas\n",
    "# básicamente, pasamos de un formato de fecha a una etiqueta de contenga el\n",
    "# día, mes y año\n",
    "muertes_diarias['fecha_def'] = muertes_diarias['fecha_def'].dt.strftime('%d/%m/%Y')\n",
    "\n",
    "# creamos el gráfico\n",
    "fig, ax = plt.subplots(figsize=(10, 6))\n",
    "ax.bar(muertes_diarias['fecha_def'], muertes_diarias['fallecidos_diarios'])\n",
    "ax.set_title('Fallecidos diarios en México (primer semestre 2022)')\n",
    "ax.set_xlabel('Fecha')\n",
    "ax.set_ylabel('Fallecidos')\n",
    "# segmentamos las fechas para que no se solapen\n",
    "ax.set_xticks(muertes_diarias.index[::30])\n",
    "\n",
    "# mostramos el gráfico\n",
    "plt.show()"
   ]
  },
  {
   "cell_type": "markdown",
   "id": "f8ee09d9",
   "metadata": {},
   "source": [
    "Vamos a explicar este código con más detalle:\n",
    "\n",
    "- Primero, importamos la librería `matplotlib.pyplot` y la renombramos como `plt`. Esta librería es la que nos permite crear visualizaciones con `matplotlib`."
   ]
  },
  {
   "cell_type": "code",
   "execution_count": 4,
   "id": "d1de8591",
   "metadata": {},
   "outputs": [
    {
     "ename": "ModuleNotFoundError",
     "evalue": "No module named 'matplotlib'",
     "output_type": "error",
     "traceback": [
      "\u001b[1;31m---------------------------------------------------------------------------\u001b[0m",
      "\u001b[1;31mModuleNotFoundError\u001b[0m                       Traceback (most recent call last)",
      "Input \u001b[1;32mIn [4]\u001b[0m, in \u001b[0;36m<cell line: 1>\u001b[1;34m()\u001b[0m\n\u001b[1;32m----> 1\u001b[0m \u001b[38;5;28;01mimport\u001b[39;00m \u001b[38;5;21;01mmatplotlib\u001b[39;00m\u001b[38;5;21;01m.\u001b[39;00m\u001b[38;5;21;01mpyplot\u001b[39;00m \u001b[38;5;28;01mas\u001b[39;00m \u001b[38;5;21;01mplt\u001b[39;00m\n",
      "\u001b[1;31mModuleNotFoundError\u001b[0m: No module named 'matplotlib'"
     ]
    }
   ],
   "source": [
    "import matplotlib.pyplot as plt"
   ]
  },
  {
   "cell_type": "markdown",
   "id": "e31fbae4",
   "metadata": {},
   "source": [
    "- Luego, creamos el gráfico. Para ello, usamos la función `plt.subplots`. Esta función nos permite crear una figura y un eje. La figura es el lienzo donde se dibujará el gráfico. El eje es el objeto que nos permite manipular el gráfico. En este caso, creamos una figura de 10x6 pixeles."
   ]
  },
  {
   "cell_type": "code",
   "execution_count": 5,
   "id": "31988b73",
   "metadata": {
    "tags": [
     "hide-output"
    ]
   },
   "outputs": [
    {
     "ename": "NameError",
     "evalue": "name 'plt' is not defined",
     "output_type": "error",
     "traceback": [
      "\u001b[1;31m---------------------------------------------------------------------------\u001b[0m",
      "\u001b[1;31mNameError\u001b[0m                                 Traceback (most recent call last)",
      "Input \u001b[1;32mIn [5]\u001b[0m, in \u001b[0;36m<cell line: 1>\u001b[1;34m()\u001b[0m\n\u001b[1;32m----> 1\u001b[0m fig, ax \u001b[38;5;241m=\u001b[39m \u001b[43mplt\u001b[49m\u001b[38;5;241m.\u001b[39msubplots(figsize\u001b[38;5;241m=\u001b[39m(\u001b[38;5;241m10\u001b[39m, \u001b[38;5;241m6\u001b[39m))\n",
      "\u001b[1;31mNameError\u001b[0m: name 'plt' is not defined"
     ]
    }
   ],
   "source": [
    "fig, ax = plt.subplots(figsize=(10, 6))"
   ]
  },
  {
   "cell_type": "markdown",
   "id": "c4f95e15",
   "metadata": {},
   "source": [
    "- Luego, usamos el método `bar` del eje para crear el gráfico de barras. Este método recibe dos argumentos: el eje x y el eje y. En este caso, usamos la columna `fecha_def` como eje x y la columna `fallecidos_diarios` como eje y."
   ]
  },
  {
   "cell_type": "code",
   "execution_count": 6,
   "id": "9d6434d8",
   "metadata": {
    "tags": [
     "hide-output"
    ]
   },
   "outputs": [
    {
     "ename": "NameError",
     "evalue": "name 'ax' is not defined",
     "output_type": "error",
     "traceback": [
      "\u001b[1;31m---------------------------------------------------------------------------\u001b[0m",
      "\u001b[1;31mNameError\u001b[0m                                 Traceback (most recent call last)",
      "Input \u001b[1;32mIn [6]\u001b[0m, in \u001b[0;36m<cell line: 1>\u001b[1;34m()\u001b[0m\n\u001b[1;32m----> 1\u001b[0m \u001b[43max\u001b[49m\u001b[38;5;241m.\u001b[39mbar(muertes_diarias[\u001b[38;5;124m'\u001b[39m\u001b[38;5;124mfecha_def\u001b[39m\u001b[38;5;124m'\u001b[39m], muertes_diarias[\u001b[38;5;124m'\u001b[39m\u001b[38;5;124mfallecidos_diarios\u001b[39m\u001b[38;5;124m'\u001b[39m])\n",
      "\u001b[1;31mNameError\u001b[0m: name 'ax' is not defined"
     ]
    }
   ],
   "source": [
    "ax.bar(muertes_diarias['fecha_def'], muertes_diarias['fallecidos_diarios'])"
   ]
  },
  {
   "cell_type": "markdown",
   "id": "65c0d60f",
   "metadata": {},
   "source": [
    "- Luego, usamos los métodos `set_title`, `set_xlabel` y `set_ylabel` para agregar títulos y etiquetas a los ejes."
   ]
  },
  {
   "cell_type": "code",
   "execution_count": 7,
   "id": "3f6091ac",
   "metadata": {
    "tags": [
     "hide-output"
    ]
   },
   "outputs": [
    {
     "ename": "NameError",
     "evalue": "name 'ax' is not defined",
     "output_type": "error",
     "traceback": [
      "\u001b[1;31m---------------------------------------------------------------------------\u001b[0m",
      "\u001b[1;31mNameError\u001b[0m                                 Traceback (most recent call last)",
      "Input \u001b[1;32mIn [7]\u001b[0m, in \u001b[0;36m<cell line: 1>\u001b[1;34m()\u001b[0m\n\u001b[1;32m----> 1\u001b[0m \u001b[43max\u001b[49m\u001b[38;5;241m.\u001b[39mset_title(\u001b[38;5;124m'\u001b[39m\u001b[38;5;124mFallecidos diarios en México (primer semestre 2022)\u001b[39m\u001b[38;5;124m'\u001b[39m)\n\u001b[0;32m      2\u001b[0m ax\u001b[38;5;241m.\u001b[39mset_xlabel(\u001b[38;5;124m'\u001b[39m\u001b[38;5;124mFecha\u001b[39m\u001b[38;5;124m'\u001b[39m)\n\u001b[0;32m      3\u001b[0m ax\u001b[38;5;241m.\u001b[39mset_ylabel(\u001b[38;5;124m'\u001b[39m\u001b[38;5;124mFallecidos\u001b[39m\u001b[38;5;124m'\u001b[39m)\n",
      "\u001b[1;31mNameError\u001b[0m: name 'ax' is not defined"
     ]
    }
   ],
   "source": [
    "ax.set_title('Fallecidos diarios en México (primer semestre 2022)')\n",
    "ax.set_xlabel('Fecha')\n",
    "ax.set_ylabel('Fallecidos')"
   ]
  },
  {
   "cell_type": "markdown",
   "id": "76d581d8",
   "metadata": {},
   "source": [
    "- Finalmente, usamos el método `set_xticks` para segmentar las fechas en el eje x. Esto nos permite que las fechas no se solapen."
   ]
  },
  {
   "cell_type": "code",
   "execution_count": 8,
   "id": "7e50c06b",
   "metadata": {
    "tags": [
     "hide-output"
    ]
   },
   "outputs": [
    {
     "ename": "NameError",
     "evalue": "name 'ax' is not defined",
     "output_type": "error",
     "traceback": [
      "\u001b[1;31m---------------------------------------------------------------------------\u001b[0m",
      "\u001b[1;31mNameError\u001b[0m                                 Traceback (most recent call last)",
      "Input \u001b[1;32mIn [8]\u001b[0m, in \u001b[0;36m<cell line: 1>\u001b[1;34m()\u001b[0m\n\u001b[1;32m----> 1\u001b[0m \u001b[43max\u001b[49m\u001b[38;5;241m.\u001b[39mset_xticks(muertes_diarias\u001b[38;5;241m.\u001b[39mindex[::\u001b[38;5;241m30\u001b[39m])\n",
      "\u001b[1;31mNameError\u001b[0m: name 'ax' is not defined"
     ]
    }
   ],
   "source": [
    "ax.set_xticks(muertes_diarias.index[::30])"
   ]
  },
  {
   "cell_type": "markdown",
   "id": "ed650c68",
   "metadata": {},
   "source": [
    "- Por último, mostramos el gráfico con el método `plt.show`."
   ]
  },
  {
   "cell_type": "code",
   "execution_count": 9,
   "id": "cd6a276b",
   "metadata": {},
   "outputs": [
    {
     "ename": "NameError",
     "evalue": "name 'plt' is not defined",
     "output_type": "error",
     "traceback": [
      "\u001b[1;31m---------------------------------------------------------------------------\u001b[0m",
      "\u001b[1;31mNameError\u001b[0m                                 Traceback (most recent call last)",
      "Input \u001b[1;32mIn [9]\u001b[0m, in \u001b[0;36m<cell line: 1>\u001b[1;34m()\u001b[0m\n\u001b[1;32m----> 1\u001b[0m \u001b[43mplt\u001b[49m\u001b[38;5;241m.\u001b[39mshow()\n",
      "\u001b[1;31mNameError\u001b[0m: name 'plt' is not defined"
     ]
    }
   ],
   "source": [
    "plt.show()"
   ]
  },
  {
   "cell_type": "markdown",
   "id": "304682b6",
   "metadata": {},
   "source": [
    "### Gráfico de líneas\n",
    "\n",
    "Para hacer un gráfico de líneas es básicamente el mismo proceso del gráfico de barras, únicamente que utilizamos el método `plot` en lugar de `bar`."
   ]
  },
  {
   "cell_type": "code",
   "execution_count": 10,
   "id": "aee5c595",
   "metadata": {},
   "outputs": [
    {
     "ename": "NameError",
     "evalue": "name 'plt' is not defined",
     "output_type": "error",
     "traceback": [
      "\u001b[1;31m---------------------------------------------------------------------------\u001b[0m",
      "\u001b[1;31mNameError\u001b[0m                                 Traceback (most recent call last)",
      "Input \u001b[1;32mIn [10]\u001b[0m, in \u001b[0;36m<cell line: 2>\u001b[1;34m()\u001b[0m\n\u001b[0;32m      1\u001b[0m \u001b[38;5;66;03m# creamos el gráfico\u001b[39;00m\n\u001b[1;32m----> 2\u001b[0m fig, ax \u001b[38;5;241m=\u001b[39m \u001b[43mplt\u001b[49m\u001b[38;5;241m.\u001b[39msubplots(figsize\u001b[38;5;241m=\u001b[39m(\u001b[38;5;241m10\u001b[39m, \u001b[38;5;241m6\u001b[39m))\n\u001b[0;32m      3\u001b[0m ax\u001b[38;5;241m.\u001b[39mplot(muertes_diarias[\u001b[38;5;124m'\u001b[39m\u001b[38;5;124mfecha_def\u001b[39m\u001b[38;5;124m'\u001b[39m], muertes_diarias[\u001b[38;5;124m'\u001b[39m\u001b[38;5;124mfallecidos_diarios\u001b[39m\u001b[38;5;124m'\u001b[39m]) \u001b[38;5;66;03m# <-- aquí cambiamos `bar` por `plot`\u001b[39;00m\n\u001b[0;32m      4\u001b[0m ax\u001b[38;5;241m.\u001b[39mset_title(\u001b[38;5;124m'\u001b[39m\u001b[38;5;124mFallecidos diarios en México (primer semestre 2022)\u001b[39m\u001b[38;5;124m'\u001b[39m)\n",
      "\u001b[1;31mNameError\u001b[0m: name 'plt' is not defined"
     ]
    }
   ],
   "source": [
    "# creamos el gráfico\n",
    "fig, ax = plt.subplots(figsize=(10, 6))\n",
    "ax.plot(muertes_diarias['fecha_def'], muertes_diarias['fallecidos_diarios']) # <-- aquí cambiamos `bar` por `plot`\n",
    "ax.set_title('Fallecidos diarios en México (primer semestre 2022)')\n",
    "ax.set_xlabel('Fecha')\n",
    "ax.set_ylabel('Fallecidos')\n",
    "# segmentamos las fechas para que no se solapen\n",
    "ax.set_xticks(muertes_diarias.index[::30])\n",
    "\n",
    "# mostramos el gráfico\n",
    "plt.show()"
   ]
  },
  {
   "cell_type": "markdown",
   "id": "ae945937",
   "metadata": {},
   "source": [
    "Y, como mostramos en la sección [sobre el mensaje en la visualización de datos](./S4P4-visualizacion-malformada.md), podemos suavizar las líneas para que se vean más agradables. En este caso, usamos la media móvil simple de 7 días."
   ]
  },
  {
   "cell_type": "code",
   "execution_count": 11,
   "id": "42bd415c",
   "metadata": {},
   "outputs": [
    {
     "data": {
      "text/html": [
       "<div>\n",
       "<style scoped>\n",
       "    .dataframe tbody tr th:only-of-type {\n",
       "        vertical-align: middle;\n",
       "    }\n",
       "\n",
       "    .dataframe tbody tr th {\n",
       "        vertical-align: top;\n",
       "    }\n",
       "\n",
       "    .dataframe thead th {\n",
       "        text-align: right;\n",
       "    }\n",
       "</style>\n",
       "<table border=\"1\" class=\"dataframe\">\n",
       "  <thead>\n",
       "    <tr style=\"text-align: right;\">\n",
       "      <th></th>\n",
       "      <th>fecha_def</th>\n",
       "      <th>fallecidos_diarios</th>\n",
       "      <th>fallecidos_diarios_smooth</th>\n",
       "    </tr>\n",
       "  </thead>\n",
       "  <tbody>\n",
       "    <tr>\n",
       "      <th>7</th>\n",
       "      <td>10/01/2022</td>\n",
       "      <td>4</td>\n",
       "      <td>2.857143</td>\n",
       "    </tr>\n",
       "    <tr>\n",
       "      <th>8</th>\n",
       "      <td>11/01/2022</td>\n",
       "      <td>3</td>\n",
       "      <td>3.142857</td>\n",
       "    </tr>\n",
       "    <tr>\n",
       "      <th>9</th>\n",
       "      <td>12/01/2022</td>\n",
       "      <td>4</td>\n",
       "      <td>3.428571</td>\n",
       "    </tr>\n",
       "    <tr>\n",
       "      <th>10</th>\n",
       "      <td>13/01/2022</td>\n",
       "      <td>9</td>\n",
       "      <td>4.285714</td>\n",
       "    </tr>\n",
       "    <tr>\n",
       "      <th>11</th>\n",
       "      <td>14/01/2022</td>\n",
       "      <td>11</td>\n",
       "      <td>4.857143</td>\n",
       "    </tr>\n",
       "  </tbody>\n",
       "</table>\n",
       "</div>"
      ],
      "text/plain": [
       "     fecha_def  fallecidos_diarios  fallecidos_diarios_smooth\n",
       "7   10/01/2022                   4                   2.857143\n",
       "8   11/01/2022                   3                   3.142857\n",
       "9   12/01/2022                   4                   3.428571\n",
       "10  13/01/2022                   9                   4.285714\n",
       "11  14/01/2022                  11                   4.857143"
      ]
     },
     "execution_count": 11,
     "metadata": {},
     "output_type": "execute_result"
    }
   ],
   "source": [
    "# encontrando la media hacemos el suavizado\n",
    "muertes_diarias['fallecidos_diarios_smooth'] = muertes_diarias['fallecidos_diarios'].rolling(7).mean()\n",
    "muertes_diarias[7:].head()"
   ]
  },
  {
   "cell_type": "code",
   "execution_count": 12,
   "id": "b9b7d738",
   "metadata": {},
   "outputs": [
    {
     "ename": "NameError",
     "evalue": "name 'plt' is not defined",
     "output_type": "error",
     "traceback": [
      "\u001b[1;31m---------------------------------------------------------------------------\u001b[0m",
      "\u001b[1;31mNameError\u001b[0m                                 Traceback (most recent call last)",
      "Input \u001b[1;32mIn [12]\u001b[0m, in \u001b[0;36m<cell line: 2>\u001b[1;34m()\u001b[0m\n\u001b[0;32m      1\u001b[0m \u001b[38;5;66;03m# creamos el gráfico\u001b[39;00m\n\u001b[1;32m----> 2\u001b[0m fig, ax \u001b[38;5;241m=\u001b[39m \u001b[43mplt\u001b[49m\u001b[38;5;241m.\u001b[39msubplots(figsize\u001b[38;5;241m=\u001b[39m(\u001b[38;5;241m10\u001b[39m, \u001b[38;5;241m6\u001b[39m))\n\u001b[0;32m      3\u001b[0m ax\u001b[38;5;241m.\u001b[39mplot(muertes_diarias[\u001b[38;5;124m'\u001b[39m\u001b[38;5;124mfecha_def\u001b[39m\u001b[38;5;124m'\u001b[39m], muertes_diarias[\u001b[38;5;124m'\u001b[39m\u001b[38;5;124mfallecidos_diarios_smooth\u001b[39m\u001b[38;5;124m'\u001b[39m]) \u001b[38;5;66;03m# <-- aquí cambiamos `bar` por `plot`\u001b[39;00m\n\u001b[0;32m      4\u001b[0m ax\u001b[38;5;241m.\u001b[39mset_title(\u001b[38;5;124m'\u001b[39m\u001b[38;5;124mFallecidos diarios en México (primer semestre 2022)\u001b[39m\u001b[38;5;124m'\u001b[39m)\n",
      "\u001b[1;31mNameError\u001b[0m: name 'plt' is not defined"
     ]
    }
   ],
   "source": [
    "# creamos el gráfico\n",
    "fig, ax = plt.subplots(figsize=(10, 6))\n",
    "ax.plot(muertes_diarias['fecha_def'], muertes_diarias['fallecidos_diarios_smooth']) # <-- aquí cambiamos `bar` por `plot`\n",
    "ax.set_title('Fallecidos diarios en México (primer semestre 2022)')\n",
    "ax.set_xlabel('Fecha')\n",
    "ax.set_ylabel('Fallecidos')\n",
    "# segmentamos las fechas para que no se solapen\n",
    "ax.set_xticks(muertes_diarias.index[::30])\n",
    "\n",
    "# mostramos el gráfico\n",
    "plt.show()"
   ]
  },
  {
   "cell_type": "markdown",
   "id": "1a2467f2",
   "metadata": {},
   "source": [
    "### Gráfico de dispersión\n",
    "\n",
    "Para hacer un gráfico de dispersión es básicamente el mismo proceso del gráfico de barras, únicamente que utilizamos el método `scatter` en lugar de `bar`.\n",
    "\n",
    "No obstante, este método no es útil para utilizarlo con los datos que usamos en los ejemplos previos. En este caso, necesitamos hallar dos variables que podamos correlacionar, así sea débilmente. En este caso, veremos si existe alguna correlación entre el sexo y la edad de las personas que se contagiaron."
   ]
  },
  {
   "cell_type": "code",
   "execution_count": 13,
   "id": "7fdc4241",
   "metadata": {},
   "outputs": [
    {
     "data": {
      "text/html": [
       "<div>\n",
       "<style scoped>\n",
       "    .dataframe tbody tr th:only-of-type {\n",
       "        vertical-align: middle;\n",
       "    }\n",
       "\n",
       "    .dataframe tbody tr th {\n",
       "        vertical-align: top;\n",
       "    }\n",
       "\n",
       "    .dataframe thead th {\n",
       "        text-align: right;\n",
       "    }\n",
       "</style>\n",
       "<table border=\"1\" class=\"dataframe\">\n",
       "  <thead>\n",
       "    <tr style=\"text-align: right;\">\n",
       "      <th></th>\n",
       "      <th>edad</th>\n",
       "      <th>count</th>\n",
       "    </tr>\n",
       "  </thead>\n",
       "  <tbody>\n",
       "    <tr>\n",
       "      <th>edad</th>\n",
       "      <td>1.000000</td>\n",
       "      <td>-0.572095</td>\n",
       "    </tr>\n",
       "    <tr>\n",
       "      <th>count</th>\n",
       "      <td>-0.572095</td>\n",
       "      <td>1.000000</td>\n",
       "    </tr>\n",
       "  </tbody>\n",
       "</table>\n",
       "</div>"
      ],
      "text/plain": [
       "           edad     count\n",
       "edad   1.000000 -0.572095\n",
       "count -0.572095  1.000000"
      ]
     },
     "execution_count": 13,
     "metadata": {},
     "output_type": "execute_result"
    }
   ],
   "source": [
    "casos_edad_sexo = datos_covid.groupby(['edad', 'sexo']).size().reset_index(name='count')\n",
    "casos_edad_sexo.corr()"
   ]
  },
  {
   "cell_type": "markdown",
   "id": "7eefa701",
   "metadata": {},
   "source": [
    "Anticipamos que es una correlación lineal débil [^footnote]. Ahora, veámosla en un gráfico de dispersión."
   ]
  },
  {
   "cell_type": "code",
   "execution_count": 14,
   "id": "5c4f6d20",
   "metadata": {},
   "outputs": [
    {
     "ename": "NameError",
     "evalue": "name 'plt' is not defined",
     "output_type": "error",
     "traceback": [
      "\u001b[1;31m---------------------------------------------------------------------------\u001b[0m",
      "\u001b[1;31mNameError\u001b[0m                                 Traceback (most recent call last)",
      "Input \u001b[1;32mIn [14]\u001b[0m, in \u001b[0;36m<cell line: 2>\u001b[1;34m()\u001b[0m\n\u001b[0;32m      1\u001b[0m \u001b[38;5;66;03m# creamos el gráfico\u001b[39;00m\n\u001b[1;32m----> 2\u001b[0m fig, ax \u001b[38;5;241m=\u001b[39m \u001b[43mplt\u001b[49m\u001b[38;5;241m.\u001b[39msubplots(figsize\u001b[38;5;241m=\u001b[39m(\u001b[38;5;241m10\u001b[39m, \u001b[38;5;241m6\u001b[39m))\n\u001b[0;32m      4\u001b[0m \u001b[38;5;66;03m# color de los puntos por cateogoría 'sexo'\u001b[39;00m\n\u001b[0;32m      5\u001b[0m colors \u001b[38;5;241m=\u001b[39m {\u001b[38;5;124m'\u001b[39m\u001b[38;5;124mHOMBRE\u001b[39m\u001b[38;5;124m'\u001b[39m: \u001b[38;5;124m'\u001b[39m\u001b[38;5;124mred\u001b[39m\u001b[38;5;124m'\u001b[39m, \u001b[38;5;124m'\u001b[39m\u001b[38;5;124mMUJER\u001b[39m\u001b[38;5;124m'\u001b[39m: \u001b[38;5;124m'\u001b[39m\u001b[38;5;124mblue\u001b[39m\u001b[38;5;124m'\u001b[39m}\n",
      "\u001b[1;31mNameError\u001b[0m: name 'plt' is not defined"
     ]
    }
   ],
   "source": [
    "# creamos el gráfico\n",
    "fig, ax = plt.subplots(figsize=(10, 6))\n",
    "\n",
    "# color de los puntos por cateogoría 'sexo'\n",
    "colors = {'HOMBRE': 'red', 'MUJER': 'blue'}\n",
    "\n",
    "ax.scatter(casos_edad_sexo['edad'], casos_edad_sexo['count'], c=casos_edad_sexo['sexo'].apply(lambda x: colors[x])) \n",
    "ax.set_title('Casos confirmados por edad y sexo')\n",
    "ax.set_xlabel('Edad')\n",
    "ax.set_ylabel('Casos confirmados')\n",
    "\n",
    "# mostramos el gráfico\n",
    "plt.show()"
   ]
  },
  {
   "cell_type": "markdown",
   "id": "b96dbbc2",
   "metadata": {},
   "source": [
    "Notarás que los contagios para mujeres y hombres son muy similares, por lo que comparten la misma tendencia. Es claro que no hay una correlación ya que entre mayor o menor edad no aumenta o disminuye el número de contagios. Lo que sí se observa es una tendencia, tanto en hombre o mujeres, de sufrir contagios principalmente entre los 20 y los 50 años. ¿Sucede lo mismo con los fallecimientos? Es lógico considerar que debe existir una fuerte correlación entre la edad y el número de fallecimientos, pero veamoslo."
   ]
  },
  {
   "cell_type": "code",
   "execution_count": 15,
   "id": "9cbe15d5",
   "metadata": {},
   "outputs": [
    {
     "ename": "NameError",
     "evalue": "name 'plt' is not defined",
     "output_type": "error",
     "traceback": [
      "\u001b[1;31m---------------------------------------------------------------------------\u001b[0m",
      "\u001b[1;31mNameError\u001b[0m                                 Traceback (most recent call last)",
      "Input \u001b[1;32mIn [15]\u001b[0m, in \u001b[0;36m<cell line: 8>\u001b[1;34m()\u001b[0m\n\u001b[0;32m      5\u001b[0m casos_edad_sexo_muertes \u001b[38;5;241m=\u001b[39m casos_edad_sexo_muertes\u001b[38;5;241m.\u001b[39mgroupby([\u001b[38;5;124m'\u001b[39m\u001b[38;5;124medad\u001b[39m\u001b[38;5;124m'\u001b[39m, \u001b[38;5;124m'\u001b[39m\u001b[38;5;124msexo\u001b[39m\u001b[38;5;124m'\u001b[39m])\u001b[38;5;241m.\u001b[39msize()\u001b[38;5;241m.\u001b[39mreset_index(name\u001b[38;5;241m=\u001b[39m\u001b[38;5;124m'\u001b[39m\u001b[38;5;124mcount\u001b[39m\u001b[38;5;124m'\u001b[39m)\n\u001b[0;32m      7\u001b[0m \u001b[38;5;66;03m# creamos el gráfico\u001b[39;00m\n\u001b[1;32m----> 8\u001b[0m fig, ax \u001b[38;5;241m=\u001b[39m \u001b[43mplt\u001b[49m\u001b[38;5;241m.\u001b[39msubplots(figsize\u001b[38;5;241m=\u001b[39m(\u001b[38;5;241m10\u001b[39m, \u001b[38;5;241m6\u001b[39m))\n\u001b[0;32m     10\u001b[0m \u001b[38;5;66;03m# color de los puntos por cateogoría 'sexo'\u001b[39;00m\n\u001b[0;32m     11\u001b[0m colors \u001b[38;5;241m=\u001b[39m {\u001b[38;5;124m'\u001b[39m\u001b[38;5;124mHOMBRE\u001b[39m\u001b[38;5;124m'\u001b[39m: \u001b[38;5;124m'\u001b[39m\u001b[38;5;124mred\u001b[39m\u001b[38;5;124m'\u001b[39m, \u001b[38;5;124m'\u001b[39m\u001b[38;5;124mMUJER\u001b[39m\u001b[38;5;124m'\u001b[39m: \u001b[38;5;124m'\u001b[39m\u001b[38;5;124mblue\u001b[39m\u001b[38;5;124m'\u001b[39m}\n",
      "\u001b[1;31mNameError\u001b[0m: name 'plt' is not defined"
     ]
    }
   ],
   "source": [
    "# seleccionamos los casos en los que hubo fallecimientos\n",
    "casos_edad_sexo_muertes = datos_covid.loc[datos_covid['fecha_def'].notnull(), ['edad', 'sexo', 'fecha_def']]\n",
    "\n",
    "# agrupamos por edad y sexo\n",
    "casos_edad_sexo_muertes = casos_edad_sexo_muertes.groupby(['edad', 'sexo']).size().reset_index(name='count')\n",
    "\n",
    "# creamos el gráfico\n",
    "fig, ax = plt.subplots(figsize=(10, 6))\n",
    "\n",
    "# color de los puntos por cateogoría 'sexo'\n",
    "colors = {'HOMBRE': 'red', 'MUJER': 'blue'}\n",
    "\n",
    "ax.scatter(casos_edad_sexo_muertes['edad'], casos_edad_sexo_muertes['count'], c=casos_edad_sexo_muertes['sexo'].apply(lambda x: colors[x]))\n",
    "ax.set_title('Fallecimientos por edad y sexo')\n",
    "ax.set_xlabel('Edad')\n",
    "ax.set_ylabel('Fallecimientos')\n",
    "\n",
    "# mostramos el gráfico\n",
    "plt.show()"
   ]
  },
  {
   "cell_type": "markdown",
   "id": "2b9be4e9",
   "metadata": {},
   "source": [
    "Notas que el gráfico es más disperso y que es más complicado cer una tendencia. Esto se debe en parte a que los contagios son mucho mayores que las defunciones, lo que hacer que la dispersión sea mayor. Por otra parte, con los datos que tenemos, es posible encontrar una correlación lineal positiva aunque débil entre la edad y el número de fallecimientos."
   ]
  },
  {
   "cell_type": "code",
   "execution_count": 16,
   "id": "d2f63c43",
   "metadata": {},
   "outputs": [
    {
     "data": {
      "text/html": [
       "<div>\n",
       "<style scoped>\n",
       "    .dataframe tbody tr th:only-of-type {\n",
       "        vertical-align: middle;\n",
       "    }\n",
       "\n",
       "    .dataframe tbody tr th {\n",
       "        vertical-align: top;\n",
       "    }\n",
       "\n",
       "    .dataframe thead th {\n",
       "        text-align: right;\n",
       "    }\n",
       "</style>\n",
       "<table border=\"1\" class=\"dataframe\">\n",
       "  <thead>\n",
       "    <tr style=\"text-align: right;\">\n",
       "      <th></th>\n",
       "      <th>edad</th>\n",
       "      <th>count</th>\n",
       "    </tr>\n",
       "  </thead>\n",
       "  <tbody>\n",
       "    <tr>\n",
       "      <th>edad</th>\n",
       "      <td>1.000000</td>\n",
       "      <td>0.400549</td>\n",
       "    </tr>\n",
       "    <tr>\n",
       "      <th>count</th>\n",
       "      <td>0.400549</td>\n",
       "      <td>1.000000</td>\n",
       "    </tr>\n",
       "  </tbody>\n",
       "</table>\n",
       "</div>"
      ],
      "text/plain": [
       "           edad     count\n",
       "edad   1.000000  0.400549\n",
       "count  0.400549  1.000000"
      ]
     },
     "execution_count": 16,
     "metadata": {},
     "output_type": "execute_result"
    }
   ],
   "source": [
    "casos_edad_sexo_muertes.corr()"
   ]
  },
  {
   "cell_type": "markdown",
   "id": "989e11ca",
   "metadata": {},
   "source": [
    "Como vemos en la gráfica, hay una ligera tendencia a que entre mayor sea la edad, mayor sean los fallecimientos.\n",
    "\n",
    "Pero, ¿qué pasa con otros padecimientos? ¿existe alguna relación entre la edad, la enfermedad y el número de fallecimientos? Afortunadamente no hemos eliminado ni modificado nuestro archivo original, así que podemos regresar a él y hacer un análisis similar."
   ]
  },
  {
   "cell_type": "code",
   "execution_count": 17,
   "id": "52a20ba9",
   "metadata": {
    "tags": [
     "remove-cell"
    ]
   },
   "outputs": [
    {
     "name": "stderr",
     "output_type": "stream",
     "text": [
      "c:\\users\\jairo\\.virtualenvs\\temp\\lib\\site-packages\\IPython\\core\\interactiveshell.py:3135: DtypeWarning: Columns (13) have mixed types.Specify dtype option on import or set low_memory=False.\n",
      "  has_raised = await self.run_ast_nodes(code_ast.body, cell_name,\n"
     ]
    }
   ],
   "source": [
    "datos_nacionales = '../data/casos_nacionales_covid-19_2022_semestre1.csv'\n",
    "covid_nacional = pd.read_csv(datos_nacionales, encoding='utf-8')"
   ]
  },
  {
   "cell_type": "code",
   "execution_count": 18,
   "id": "851ede49",
   "metadata": {},
   "outputs": [
    {
     "name": "stdout",
     "output_type": "stream",
     "text": [
      "diabetes            edad     count\n",
      "edad   1.000000  0.306907\n",
      "count  0.306907  1.000000\n",
      "epoc            edad     count\n",
      "edad   1.000000  0.364565\n",
      "count  0.364565  1.000000\n"
     ]
    },
    {
     "name": "stdout",
     "output_type": "stream",
     "text": [
      "asma            edad     count\n",
      "edad   1.000000  0.195403\n",
      "count  0.195403  1.000000\n",
      "inmusupr            edad     count\n",
      "edad   1.000000  0.323069\n",
      "count  0.323069  1.000000\n"
     ]
    },
    {
     "name": "stdout",
     "output_type": "stream",
     "text": [
      "hipertension            edad     count\n",
      "edad   1.000000  0.423814\n",
      "count  0.423814  1.000000\n",
      "cardiovascular            edad     count\n",
      "edad   1.000000  0.438819\n",
      "count  0.438819  1.000000\n"
     ]
    },
    {
     "name": "stdout",
     "output_type": "stream",
     "text": [
      "obesidad            edad     count\n",
      "edad   1.000000  0.255072\n",
      "count  0.255072  1.000000\n",
      "renal_cronica            edad     count\n",
      "edad   1.000000  0.379559\n",
      "count  0.379559  1.000000\n"
     ]
    },
    {
     "name": "stdout",
     "output_type": "stream",
     "text": [
      "tabaquismo            edad     count\n",
      "edad   1.000000  0.403027\n",
      "count  0.403027  1.000000\n"
     ]
    }
   ],
   "source": [
    "lista_enfermedades = ['diabetes', 'epoc', 'asma', 'inmusupr', 'hipertension',  'cardiovascular', 'obesidad', 'renal_cronica', 'tabaquismo']\n",
    "\n",
    "for l in lista_enfermedades:\n",
    "    casos_edad_sexo_muertes = covid_nacional.loc[covid_nacional['fecha_def'].notnull(), ['edad', l, 'fecha_def']]\n",
    "    casos_edad_sexo_muertes = casos_edad_sexo_muertes.groupby(['edad', l]).size().reset_index(name='count')\n",
    "    correla = casos_edad_sexo_muertes.loc[casos_edad_sexo_muertes[l] == 'SI'].corr()\n",
    "    print(l, correla)"
   ]
  },
  {
   "cell_type": "markdown",
   "id": "5146a1bd",
   "metadata": {},
   "source": [
    "Como verás, las correlaciones lineales en todos los casos son muy débiles. Podemos graficar una de las tendencias más claras, la relacionada con la enfermedad cardiovascular y observar el gráfico:"
   ]
  },
  {
   "cell_type": "code",
   "execution_count": 19,
   "id": "0eb80ca6",
   "metadata": {},
   "outputs": [
    {
     "ename": "NameError",
     "evalue": "name 'plt' is not defined",
     "output_type": "error",
     "traceback": [
      "\u001b[1;31m---------------------------------------------------------------------------\u001b[0m",
      "\u001b[1;31mNameError\u001b[0m                                 Traceback (most recent call last)",
      "Input \u001b[1;32mIn [19]\u001b[0m, in \u001b[0;36m<cell line: 4>\u001b[1;34m()\u001b[0m\n\u001b[0;32m      1\u001b[0m casos_edad_sexo_muertes \u001b[38;5;241m=\u001b[39m covid_nacional\u001b[38;5;241m.\u001b[39mloc[covid_nacional[\u001b[38;5;124m'\u001b[39m\u001b[38;5;124mfecha_def\u001b[39m\u001b[38;5;124m'\u001b[39m]\u001b[38;5;241m.\u001b[39mnotnull(), [\u001b[38;5;124m'\u001b[39m\u001b[38;5;124medad\u001b[39m\u001b[38;5;124m'\u001b[39m, \u001b[38;5;124m'\u001b[39m\u001b[38;5;124mcardiovascular\u001b[39m\u001b[38;5;124m'\u001b[39m, \u001b[38;5;124m'\u001b[39m\u001b[38;5;124mfecha_def\u001b[39m\u001b[38;5;124m'\u001b[39m]]\n\u001b[0;32m      2\u001b[0m casos_edad_sexo_muertes \u001b[38;5;241m=\u001b[39m casos_edad_sexo_muertes\u001b[38;5;241m.\u001b[39mgroupby([\u001b[38;5;124m'\u001b[39m\u001b[38;5;124medad\u001b[39m\u001b[38;5;124m'\u001b[39m, \u001b[38;5;124m'\u001b[39m\u001b[38;5;124mcardiovascular\u001b[39m\u001b[38;5;124m'\u001b[39m])\u001b[38;5;241m.\u001b[39msize()\u001b[38;5;241m.\u001b[39mreset_index(name\u001b[38;5;241m=\u001b[39m\u001b[38;5;124m'\u001b[39m\u001b[38;5;124mcount\u001b[39m\u001b[38;5;124m'\u001b[39m)\n\u001b[1;32m----> 4\u001b[0m fig, ax \u001b[38;5;241m=\u001b[39m \u001b[43mplt\u001b[49m\u001b[38;5;241m.\u001b[39msubplots(figsize\u001b[38;5;241m=\u001b[39m(\u001b[38;5;241m10\u001b[39m, \u001b[38;5;241m6\u001b[39m))\n\u001b[0;32m      6\u001b[0m colors \u001b[38;5;241m=\u001b[39m {\u001b[38;5;124m'\u001b[39m\u001b[38;5;124mSI\u001b[39m\u001b[38;5;124m'\u001b[39m: \u001b[38;5;124m'\u001b[39m\u001b[38;5;124mred\u001b[39m\u001b[38;5;124m'\u001b[39m, \u001b[38;5;124m'\u001b[39m\u001b[38;5;124mNO\u001b[39m\u001b[38;5;124m'\u001b[39m: \u001b[38;5;124m'\u001b[39m\u001b[38;5;124mblue\u001b[39m\u001b[38;5;124m'\u001b[39m, \u001b[38;5;124m'\u001b[39m\u001b[38;5;124mSE IGNORA\u001b[39m\u001b[38;5;124m'\u001b[39m: \u001b[38;5;124m'\u001b[39m\u001b[38;5;124mgreen\u001b[39m\u001b[38;5;124m'\u001b[39m}\n\u001b[0;32m      8\u001b[0m ax\u001b[38;5;241m.\u001b[39mscatter(casos_edad_sexo_muertes[\u001b[38;5;124m'\u001b[39m\u001b[38;5;124medad\u001b[39m\u001b[38;5;124m'\u001b[39m], casos_edad_sexo_muertes[\u001b[38;5;124m'\u001b[39m\u001b[38;5;124mcount\u001b[39m\u001b[38;5;124m'\u001b[39m], c\u001b[38;5;241m=\u001b[39mcasos_edad_sexo_muertes[\u001b[38;5;124m'\u001b[39m\u001b[38;5;124mcardiovascular\u001b[39m\u001b[38;5;124m'\u001b[39m]\u001b[38;5;241m.\u001b[39mapply(\u001b[38;5;28;01mlambda\u001b[39;00m x: colors[x]))\n",
      "\u001b[1;31mNameError\u001b[0m: name 'plt' is not defined"
     ]
    }
   ],
   "source": [
    "casos_edad_sexo_muertes = covid_nacional.loc[covid_nacional['fecha_def'].notnull(), ['edad', 'cardiovascular', 'fecha_def']]\n",
    "casos_edad_sexo_muertes = casos_edad_sexo_muertes.groupby(['edad', 'cardiovascular']).size().reset_index(name='count')\n",
    "\n",
    "fig, ax = plt.subplots(figsize=(10, 6))\n",
    "\n",
    "colors = {'SI': 'red', 'NO': 'blue', 'SE IGNORA': 'green'}\n",
    "\n",
    "ax.scatter(casos_edad_sexo_muertes['edad'], casos_edad_sexo_muertes['count'], c=casos_edad_sexo_muertes['cardiovascular'].apply(lambda x: colors[x]))\n",
    "ax.set_title('Fallecimientos por edad y enfermedad cardiovascular')\n",
    "ax.set_xlabel('Edad')\n",
    "ax.set_ylabel('Fallecimientos')\n",
    "\n",
    "plt.show()"
   ]
  },
  {
   "cell_type": "markdown",
   "id": "ed60c0a8",
   "metadata": {},
   "source": [
    "¡Fantástico! Hemos experimentado con varios tipos de gráficas, intentando encontrar patrones en nuestros datos. Hallamos algunas tendencias, como que durante el segundo semetre de 2020 hubo un pico de mortalidad en el mes de febrero, aunque sin alcanzar a superar los 3o fallecimientos diarios. Por otra parte, los contagios se centraron en las poblaciones con edades entre 20 y 40 años, mientras que los fallecimientos se concentraron en las personas mayores de 60 años. Por último, no encontramos una relación entre las enfermedades y el número de fallecimientos.\n",
    "\n",
    "Obviamente todavía podríamos realizar otras operaciones y gráficos, pero pasemos al siguiente tema, donde realizaremos las mismas gráficas pero con la ayuda de la librería Plotly, lo que dará un poco más de dinamismo a nuestras visualizaciones.\n",
    "\n",
    "## Notas\n",
    "\n",
    "[^footnote]: En aras de la brevedad, en esta sección trataremos correlaciones lineales basados en el coeficiente de correlación de Pearson. Si quisiéramos profundizar más en la distribución de los datos, tendríamos que utilizar otro tipo de coeficientes no-lineales, como el coeficiente de correlación de Spearman o el coeficiente de correlación de Kendall. Si quieres realizar estos análisis con tus datos con Python, puedes explotar la librearía [scipy.stats](https://docs.scipy.org/doc/scipy/reference/stats.html)."
   ]
  }
 ],
 "metadata": {
  "jupytext": {
   "cell_metadata_filter": "-all",
   "formats": "md:myst",
   "text_representation": {
    "extension": ".md",
    "format_name": "myst",
    "format_version": 0.13,
    "jupytext_version": "1.14.0"
   }
  },
  "kernelspec": {
   "display_name": "Python 3 (ipykernel)",
   "language": "python",
   "name": "python3"
  },
  "language_info": {
   "codemirror_mode": {
    "name": "ipython",
    "version": 3
   },
   "file_extension": ".py",
   "mimetype": "text/x-python",
   "name": "python",
   "nbconvert_exporter": "python",
   "pygments_lexer": "ipython3",
   "version": "3.8.3"
  },
  "source_map": [
   14,
   22,
   29,
   39,
   43,
   62,
   68,
   70,
   74,
   77,
   81,
   84,
   88,
   93,
   97,
   100,
   104,
   106,
   112,
   124,
   128,
   134,
   146,
   154,
   157,
   161,
   175,
   179,
   199,
   203,
   205,
   211,
   217,
   225,
   229,
   243
  ]
 },
 "nbformat": 4,
 "nbformat_minor": 5
}