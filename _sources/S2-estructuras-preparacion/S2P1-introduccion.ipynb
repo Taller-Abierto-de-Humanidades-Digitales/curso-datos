{
 "cells": [
  {
   "cell_type": "markdown",
   "id": "95d3be1a",
   "metadata": {},
   "source": [
    "# Análisis de estructuras de datos y preparación\n",
    "\n",
    "## Introducción\n",
    "\n",
    "En esta semana, vamos a avanzar de manera lenta pero segura en la preparación de nuestro conjunto de datos para la visualización.\n",
    "\n",
    "El objetivo consiste en describir nuestros datos de una manera un tanto más detallada, ya no solamente pensando lo que queremos hacer, ahora podemos determinar lo que podemos hacer con nuestros datos.\n",
    "\n",
    "Mientras revisas los materiales y realizas las actividades de esta semana, prepara las transformaciones que serán necesarias para los objetivos de tu visualización. Por ejemplo, si quieres representar información en un mapa, tendrás que incorporar las coordenadas geográficas para cada punto. Esta tarea no la podrás realizar de manera manual, así que tendrás que prepararte para aprender a incorporar esos datos a tu fuente original. Seguramente requerirás de otra fuente de datos que complemente la que propusiste, así que es importante dedicar esta semana a tener listo ese material.\n",
    "\n",
    "```{admonition} Una recomendación ;)\n",
    ":class: tip\n",
    "Esta semana es bastante sencilla, por lo que te recomendamos que explores las actividades de la semana 3 para que te familiarices con el reto que está por venir.\n",
    "```\n",
    "\n",
    "## Qué temas veremos esta semana?\n",
    "\n",
    "- Los tipos de datos de tu fuente de datos según `pandas`.\n",
    "- Cómo describir una fuente de datos usando `pandas`.\n",
    "- Qué posibilidades tienen tus datos para ser visualizados."
   ]
  }
 ],
 "metadata": {
  "jupytext": {
   "cell_metadata_filter": "-all",
   "formats": "md:myst",
   "text_representation": {
    "extension": ".md",
    "format_name": "myst",
    "format_version": 0.13,
    "jupytext_version": "1.14.1"
   }
  },
  "kernelspec": {
   "display_name": "Python 3 (ipykernel)",
   "language": "python",
   "name": "python3"
  },
  "language_info": {
   "codemirror_mode": {
    "name": "ipython",
    "version": 3
   },
   "file_extension": ".py",
   "mimetype": "text/x-python",
   "name": "python",
   "nbconvert_exporter": "python",
   "pygments_lexer": "ipython3",
   "version": "3.8.3"
  },
  "source_map": [
   14
  ]
 },
 "nbformat": 4,
 "nbformat_minor": 5
}