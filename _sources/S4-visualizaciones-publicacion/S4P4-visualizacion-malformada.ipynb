{
 "cells": [
  {
   "cell_type": "markdown",
   "id": "d9a3597d",
   "metadata": {},
   "source": [
    "# Sobre el mensaje en la visualización de datos\n",
    "\n",
    "Un aspecto relevante para la visualización consiste en seleccionar el tipo de gráfico que represente mejor los datos que queremos representar. Es decir, necesitamos un gráfico que permita \"explicar\" los datos que tenemos y no unos datos que necesiten ser adaptados para convertirse en un gráfico.\n",
    "\n",
    "Como observas en la siguiente gráfica, la visualización de datos hace parte de la ciencia de datos, como un paso final para comunicar y explicar los resultados de los análisis realizados.\n",
    "\n",
    "```{figure} https://upload.wikimedia.org/wikipedia/commons/thumb/b/ba/Data_visualization_process_v1.png/800px-Data_visualization_process_v1.png\n",
    "---\n",
    "width: 600px\n",
    "align: center\n",
    "name: directive-fig\n",
    "---\n",
    "[Farcaster](https://en.wikipedia.org/wiki/User:Farcaster), \"Data visualization process v1\", en [Wikipedia](https://es.m.wikipedia.org/wiki/Archivo:Data_visualization_process_v1.png), 2014. [CC BY-SA 3.0](https://creativecommons.org/licenses/by-sa/3.0/deed.es)\n",
    "```\n",
    "\n",
    "Por otra parte, un gráfico puede ayudar a hacer más clara la información, pero también existe el riesgo de crear representaciones ambiguas que en realidad ocultan lo que puede ser mostrado con los datos[^footnote1]. En este sentido debemos comprender que la forma, figuras y colores que usamos para nuestras visualizaciones tienen una finalidad comunicativa, no meramente estética.\n",
    "\n",
    "Voy a dar un ejemplo sumamente evidente para que podamos tener clara esta idea. Con los datos que he manipulado sobre casos de Covid-19 durante el primer semestre de 2022, puedo hacer la siguiente gráfica:"
   ]
  },
  {
   "cell_type": "code",
   "execution_count": 1,
   "id": "86aab6c1",
   "metadata": {},
   "outputs": [
    {
     "ename": "ModuleNotFoundError",
     "evalue": "No module named 'matplotlib'",
     "output_type": "error",
     "traceback": [
      "\u001b[1;31m---------------------------------------------------------------------------\u001b[0m",
      "\u001b[1;31mModuleNotFoundError\u001b[0m                       Traceback (most recent call last)",
      "Input \u001b[1;32mIn [1]\u001b[0m, in \u001b[0;36m<cell line: 2>\u001b[1;34m()\u001b[0m\n\u001b[0;32m      1\u001b[0m \u001b[38;5;28;01mimport\u001b[39;00m \u001b[38;5;21;01mpandas\u001b[39;00m \u001b[38;5;28;01mas\u001b[39;00m \u001b[38;5;21;01mpd\u001b[39;00m\n\u001b[1;32m----> 2\u001b[0m \u001b[38;5;28;01mimport\u001b[39;00m \u001b[38;5;21;01mmatplotlib\u001b[39;00m\u001b[38;5;21;01m.\u001b[39;00m\u001b[38;5;21;01mpyplot\u001b[39;00m \u001b[38;5;28;01mas\u001b[39;00m \u001b[38;5;21;01mplt\u001b[39;00m\n\u001b[0;32m      3\u001b[0m muestra_covid \u001b[38;5;241m=\u001b[39m pd\u001b[38;5;241m.\u001b[39mread_csv(\u001b[38;5;124m'\u001b[39m\u001b[38;5;124m../data/covid_clean.csv\u001b[39m\u001b[38;5;124m'\u001b[39m)\n\u001b[0;32m      4\u001b[0m covid_acumulado \u001b[38;5;241m=\u001b[39m muestra_covid\u001b[38;5;241m.\u001b[39mgroupby(\u001b[38;5;124m'\u001b[39m\u001b[38;5;124mfecha_def\u001b[39m\u001b[38;5;124m'\u001b[39m)\u001b[38;5;241m.\u001b[39msize()\u001b[38;5;241m.\u001b[39mcumsum()\n",
      "\u001b[1;31mModuleNotFoundError\u001b[0m: No module named 'matplotlib'"
     ]
    }
   ],
   "source": [
    "import pandas as pd\n",
    "import matplotlib.pyplot as plt\n",
    "muestra_covid = pd.read_csv('../data/covid_clean.csv')\n",
    "covid_acumulado = muestra_covid.groupby('fecha_def').size().cumsum()\n",
    "fig = plt.figure(figsize=(10, 5))\n",
    "ax = fig.add_subplot(111)\n",
    "ax.plot(covid_acumulado.index, covid_acumulado.values, color='red')\n",
    "ax.set_title('Acumulado de defunciones por Covid-19')\n",
    "ax.set_xlabel('Fecha')\n",
    "ax.set_ylabel('Defunciones')\n",
    "# x labels just months\n",
    "ax.set_xticks(covid_acumulado.index[::30])\n",
    "\n",
    "plt.show()"
   ]
  },
  {
   "cell_type": "markdown",
   "id": "94304671",
   "metadata": {},
   "source": [
    "\"Técnicamente\", esta es una gráfica con datos correctos. Que muestra el acumulado de los casos por Covd-19 que se han presentado durante el semestre. Sin embargo, es una gráfica que envía un mensaje cláramente erróneo: que las defunciones han ido aumentando durante todo el primer semestre de 2022. Una gráfica de este tipo podría utilizarse para tratar de enviar el mensaje de que la pandemia no solo continúa, sino que está agravándose con el paso del tiempo.\n",
    "\n",
    "Ahora veamos una gráfica del mismo tipo, con los mismos datos, pero representada de una forma diferente:"
   ]
  },
  {
   "cell_type": "code",
   "execution_count": 2,
   "id": "6637352c",
   "metadata": {
    "tags": [
     "remove-input"
    ]
   },
   "outputs": [
    {
     "ename": "NameError",
     "evalue": "name 'muestra_covid' is not defined",
     "output_type": "error",
     "traceback": [
      "\u001b[1;31m---------------------------------------------------------------------------\u001b[0m",
      "\u001b[1;31mNameError\u001b[0m                                 Traceback (most recent call last)",
      "Input \u001b[1;32mIn [2]\u001b[0m, in \u001b[0;36m<cell line: 1>\u001b[1;34m()\u001b[0m\n\u001b[1;32m----> 1\u001b[0m covid_diario \u001b[38;5;241m=\u001b[39m  \u001b[43mmuestra_covid\u001b[49m\u001b[38;5;241m.\u001b[39mgroupby(\u001b[38;5;124m'\u001b[39m\u001b[38;5;124mfecha_def\u001b[39m\u001b[38;5;124m'\u001b[39m)\u001b[38;5;241m.\u001b[39msize()\n\u001b[0;32m      2\u001b[0m fig \u001b[38;5;241m=\u001b[39m plt\u001b[38;5;241m.\u001b[39mfigure(figsize\u001b[38;5;241m=\u001b[39m(\u001b[38;5;241m10\u001b[39m, \u001b[38;5;241m5\u001b[39m))\n\u001b[0;32m      3\u001b[0m ax \u001b[38;5;241m=\u001b[39m fig\u001b[38;5;241m.\u001b[39madd_subplot(\u001b[38;5;241m111\u001b[39m)\n",
      "\u001b[1;31mNameError\u001b[0m: name 'muestra_covid' is not defined"
     ]
    }
   ],
   "source": [
    "covid_diario =  muestra_covid.groupby('fecha_def').size()\n",
    "fig = plt.figure(figsize=(10, 5))\n",
    "ax = fig.add_subplot(111)\n",
    "ax.plot(covid_diario.index, covid_diario.values, color='red')\n",
    "ax.set_title('Defunciones diarias por Covid-19')\n",
    "ax.set_xlabel('Fecha')\n",
    "ax.set_ylabel('Defunciones')\n",
    "# x labels just months\n",
    "ax.set_xticks(covid_diario.index[::30])\n",
    "\n",
    "plt.show()"
   ]
  },
  {
   "cell_type": "markdown",
   "id": "5d35d85d",
   "metadata": {},
   "source": [
    "Son los mismos datos, pero tratados de manera diferente. Mientras la primera figura mostraba una información acumulada, en la segunda se muestra la información de defunciones por día. Ambas gráficas son reales, puesto que en el primer semestre de 2022 murieron más de 800 personas, de acuerdo con esta fuente de datos; pero en la segunda es mucho más claro el **comportamiento temporal** de la pandemia.\n",
    "\n",
    "Ahora, ¿qué opinas de la siguiente gráfica?"
   ]
  },
  {
   "cell_type": "code",
   "execution_count": 3,
   "id": "839c12c7",
   "metadata": {
    "tags": [
     "remove-input"
    ]
   },
   "outputs": [
    {
     "ename": "NameError",
     "evalue": "name 'covid_diario' is not defined",
     "output_type": "error",
     "traceback": [
      "\u001b[1;31m---------------------------------------------------------------------------\u001b[0m",
      "\u001b[1;31mNameError\u001b[0m                                 Traceback (most recent call last)",
      "Input \u001b[1;32mIn [3]\u001b[0m, in \u001b[0;36m<cell line: 2>\u001b[1;34m()\u001b[0m\n\u001b[0;32m      1\u001b[0m \u001b[38;5;66;03m# smooth line\u001b[39;00m\n\u001b[1;32m----> 2\u001b[0m covid_diario_smooth \u001b[38;5;241m=\u001b[39m \u001b[43mcovid_diario\u001b[49m\u001b[38;5;241m.\u001b[39mrolling(\u001b[38;5;241m7\u001b[39m)\u001b[38;5;241m.\u001b[39mmean()\n\u001b[0;32m      3\u001b[0m fig \u001b[38;5;241m=\u001b[39m plt\u001b[38;5;241m.\u001b[39mfigure(figsize\u001b[38;5;241m=\u001b[39m(\u001b[38;5;241m10\u001b[39m, \u001b[38;5;241m5\u001b[39m))\n\u001b[0;32m      4\u001b[0m ax \u001b[38;5;241m=\u001b[39m fig\u001b[38;5;241m.\u001b[39madd_subplot(\u001b[38;5;241m111\u001b[39m)\n",
      "\u001b[1;31mNameError\u001b[0m: name 'covid_diario' is not defined"
     ]
    }
   ],
   "source": [
    "# smooth line\n",
    "covid_diario_smooth = covid_diario.rolling(7).mean()\n",
    "fig = plt.figure(figsize=(10, 5))\n",
    "ax = fig.add_subplot(111)\n",
    "ax.plot(covid_diario_smooth.index, covid_diario_smooth.values, color='blue')\n",
    "ax.set_title('Defunciones diarias por Covid-19')\n",
    "ax.set_xlabel('Fecha')\n",
    "ax.set_ylabel('Defunciones')\n",
    "# x labels just months\n",
    "ax.set_xticks(covid_diario_smooth.index[::30])\n",
    "\n",
    "plt.show()"
   ]
  },
  {
   "cell_type": "markdown",
   "id": "6221e50f",
   "metadata": {},
   "source": [
    "Esta gráfica es una versión \"suavizada\" de la anterior. En este caso, se ha utilizado una técnica de suavizado de datos, que consiste en promediar los datos de una serie de tiempo para reducir la variabilidad de los datos. En este caso, se ha utilizado un promedio móvil de 7 días, lo que significa que se ha promediado cada dato con los 6 días anteriores y los 6 días posteriores. La gráfica sigue siendo precisa, sin brindar un mensaje engañoso, pero es mucho más fácil de leer y comunicar.\n",
    "\n",
    "En este sentido, es fundamental tener el suficiente criterio para elegir la forma en la que queremos representar los datos. Si estamos interesados en publicar nuestra gráfica en una revista científica es evidente que optaremos por representaciones más precisas, como la segunda gráfica; en tanto que si queremos presentar nuestros resultados a un público más amplio preferiremos una gráfica como la anterior. Y, en ningún caso, deberíamos intentar modificar la visualización para que se ajusten en nuestro \"mensaje\".\n",
    "\n",
    "## Un famoso ejemplo de manipulación de datos\n",
    "\n",
    "El 10 de septiembre de 2013, el CEO de Apple, Tim Cook, presentó una gráfica en la que se mostraba el crecimiento acumulado en las ventas de iPhones desde 2007 hasta 2013. Por motivos de derechos de autor no puedo incluir la imagen en este sitio, pero les comparto la grabación de [la charla de Tim Cook](https://youtu.be/yBX-KpMoxYk?t=1247). El enlace inicia en el segundo exacto en el que se presenta la gráfica.\n",
    "\n",
    "Como verás, la gráfica es usada solamente por unos segundos, pero tiene el propósito claro de ratificar el argumento que Cook está presentando: que el iPhone 5s fue el modelo más exitoso en su primer año de todos los demás modelos lanzados previamente.\n",
    "\n",
    "Al ser utilizada por un tiempo tan breve, tiene un efecto directo entre los asistentes. Pero, llamó la atención de David Yanofsky, un periodista afiliado con la revista \"Quartz\", quien notó algunos aspectos extraños de la gráfica.\n",
    "\n",
    "En primer lugar, le llamó la atención que la gráfica no tuviese ninguna escala en el eje 'y'. Así, podría ser un volumen de miles, millones, estar en una escala logarítmica... Básicamente cualquier escala pudo ser utilizada.\n",
    "\n",
    "Pero más que lo anterior, lo que generó mayor ruido fue que al mostrar una gráfica acumulativa, se estaba ocultando, de manera deliberada o no, el comportamiento de las ventas trimestrales. Con los mismos datos, Yanofsky realizó una gráfica de las ventas trimestrales y la sobrepuso a la original de Cook, el resultado lo puedes ver en este [enlace](https://i.kinja-img.com/gawker-media/image/upload/q_75,w_940,h_571,c_fill/d032839e447dca8750f6c32c4e9e26c4.JPG).\n",
    "\n",
    "La conclusión que pudo extraer Yanofsky de los datos era radicalmente diferente de la que Cook quería transmitir: \"aunque Apple pueda acumular más de 400 millones de ventas de iPhones en el tiempo, sus ventas trimestrales del producto han decaido a lo largo de los últimos tres trimestres.\" {cite}`yanofsky_chart_2013`\n",
    "\n",
    "Este ejemplo es apenas uno de los innumerables casos en los que las visualizaciones ayudan a ocultar o manipular el mensaje que se está intentando transmitir. La facilidad con la que se puede malintepretar una visualización, conlleva a una desconfianza generalizada en los datos, lo que puede ser un problema grave para la ciencia y la educación. Por esta razón, tener las herramientas para identificar una \"buena\" de una \"mala\" visualización es clave en el mundo de hoy.\n",
    "\n",
    "Finalmente, para cerrar esta sección, les quiero recomendar el ciclo de grabaciones del curso \"Calling Bullshit in the Age of Big Data\", impartido por los profesores Carl Bergstrom y Jevin West, de la universidad de Washington. Pueden verlo en [YouTube](https://youtube.com/playlist?list=PLPnZfvKID1Sje5jWxt-4CSZD7bUI4gSPS). En este encontrarán muchos ejemplos del \"uso indebido\" de las visualizaciones y de los datos, así como las herramientas para identificarlos.\n",
    "\n",
    "## Notas\n",
    "\n",
    "[^footnote1]: Los cuatro primeros capítulos de {cite}`spiegelhalter_art_2021` son una excelente guía para evitar confundir con los datos desde el mismo proceso de análisis."
   ]
  }
 ],
 "metadata": {
  "jupytext": {
   "cell_metadata_filter": "-all",
   "formats": "md:myst",
   "text_representation": {
    "extension": ".md",
    "format_name": "myst",
    "format_version": 0.13,
    "jupytext_version": "1.14.0"
   }
  },
  "kernelspec": {
   "display_name": "Python 3 (ipykernel)",
   "language": "python",
   "name": "python3"
  },
  "language_info": {
   "codemirror_mode": {
    "name": "ipython",
    "version": 3
   },
   "file_extension": ".py",
   "mimetype": "text/x-python",
   "name": "python",
   "nbconvert_exporter": "python",
   "pygments_lexer": "ipython3",
   "version": "3.8.3"
  },
  "source_map": [
   14,
   35,
   50,
   56,
   69,
   75,
   89
  ]
 },
 "nbformat": 4,
 "nbformat_minor": 5
}