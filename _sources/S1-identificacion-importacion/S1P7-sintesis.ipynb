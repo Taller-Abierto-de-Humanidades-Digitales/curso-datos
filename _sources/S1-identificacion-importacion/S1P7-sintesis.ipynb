{
 "cells": [
  {
   "cell_type": "markdown",
   "metadata": {},
   "source": [
    "# ¿Qué aprendimos esta semana?\n",
    "\n",
    "Vamos a repasar los objetivos de la primera semana de este curso.\n",
    "\n",
    "* Creaste un cuaderno en Google Colab, editar celdas de texto y código, y realizar importaciones de archivos de texto.\n",
    "* Compartiste públicamente un cuaderno de Google Colab.\n",
    "* Buscaste una fuente de datos en los repositorios públicos de datos abiertos.\n",
    "* Seleccionaste una fuente de datos teniendo en cuenta su descripción, creadores, rango de tiempo y tipo de archivo.\n",
    "* Importaste la fuente de datos a tu Google Drive y de allí a tu Google Colab utilizando Python.\n",
    "\n",
    "## ¿Qué aprendiste de programación en Python esta semana?\n",
    "\n",
    "Si seguiste detenidamente los pasos de esta primera semana, habrás aprendido algunas habilidades básicas de programación.\n",
    "\n",
    "### Sintaxis básica\n",
    "\n",
    "Python es un lenguaje con una sintaxis muy sencilla. Básicamente comprende los siguientes aspectos:\n",
    "\n",
    "#### Indentación\n",
    "\n",
    "Cada bloque de código se escribe con espacios o tabuladores. Por ejemplo:"
   ]
  },
  {
   "cell_type": "code",
   "execution_count": null,
   "metadata": {},
   "outputs": [],
   "source": [
    "if 5 > 2:\n",
    "    print(\"5 es mayor que 2\")"
   ]
  },
  {
   "cell_type": "markdown",
   "metadata": {},
   "source": [
    "Nota que hay cinco espacios entre la primera instrucción `if 5 > 2:` y la segunda instrucción `print(\"5 es mayor que 2\")`. Si utilizamos otro \"formato\" vamos a encontrar un error:"
   ]
  },
  {
   "cell_type": "code",
   "execution_count": null,
   "metadata": {},
   "outputs": [],
   "source": [
    "if 5 > 2: \n",
    "print(\"5 es mayor que 2\")"
   ]
  },
  {
   "cell_type": "markdown",
   "metadata": {},
   "source": [
    "#### Comentarios\n",
    "\n",
    "Los comentarios son una forma de documentar el código."
   ]
  },
  {
   "cell_type": "code",
   "execution_count": null,
   "metadata": {},
   "outputs": [],
   "source": [
    "# Este es un comentario\n",
    "print(\"Hola mundo\")"
   ]
  },
  {
   "cell_type": "markdown",
   "metadata": {},
   "source": [
    "Como ves, los comentarios se escriben con un `#` y seguido del texto. El programa no los ejecuta y sirven solamente para anotar el código.\n",
    "\n",
    "### Variables\n",
    "\n",
    "Las variables son una forma de almacenar información."
   ]
  },
  {
   "cell_type": "code",
   "execution_count": null,
   "metadata": {},
   "outputs": [],
   "source": [
    "nombre = \"Juan\"\n",
    "edad = 30\n",
    "distancia = 3.7\n",
    "kilometros = True\n",
    "print(nombre)\n",
    "print(edad)\n",
    "print(distancia)\n",
    "print(kilometros)"
   ]
  },
  {
   "cell_type": "markdown",
   "metadata": {},
   "source": [
    "Las variables se declaran con un nombre y se asignan un valor.\n",
    "\n",
    "#### Tipos de datos\n",
    "\n",
    "* `nombre` es una variable de tipo `str` (string) que almacena una cadena de texto.\n",
    "* `edad` es una variable de tipo `int` (entero) que almacena un número entero.\n",
    "* `distancia` es una variable de tipo `float` (flotante) que almacena un número con decimales.\n",
    "* `kilometros` es una variable de tipo `bool` (booleano) que almacena un valor booleano.\n",
    "\n",
    "### Manejo de archivos\n",
    "\n",
    "El manejo de archivos básico en Python se realiza a través de estas dos funciones:\n",
    "\n",
    "* `open()` permite abrir un archivo para lectura o escritura.\n",
    "* `read()` permite leer el contenido de un archivo.\n",
    "\n",
    "La función `open()` recibe dos parámetros:\n",
    "\n",
    "* `file` es el nombre del archivo que se quiere abrir.\n",
    "* `mode` es el modo de apertura del archivo.\n",
    "\n",
    "Si queremos abrir un archivo para lectura, el modo de apertura es `r`."
   ]
  },
  {
   "cell_type": "code",
   "execution_count": null,
   "metadata": {},
   "outputs": [],
   "source": [
    "archivo = open(\"../file_samples/ejemplo-1.txt\", \"r\")\n",
    "contenido = archivo.read()\n",
    "print(contenido)\n",
    "archivo.close()"
   ]
  },
  {
   "cell_type": "markdown",
   "metadata": {},
   "source": [
    "Si queremos abrir un archivo para escritura, el modo de apertura es `w`."
   ]
  },
  {
   "cell_type": "code",
   "execution_count": null,
   "metadata": {},
   "outputs": [],
   "source": [
    "archivo = open(\"../file_samples/ejemplo-2.txt\", \"w\")\n",
    "archivo.write(\"Hola mundo\")\n",
    "archivo.close()"
   ]
  },
  {
   "cell_type": "markdown",
   "metadata": {},
   "source": [
    "Existen otros modos de apertura, como `a` para agregar contenido al archivo y `x` para crear un archivo nuevo si no existe. En este momento, es suficiente con conocer el modo general de lectura y escritura de archivos.\n",
    "\n",
    "### Importar librerías o módulos\n",
    "\n",
    "Los módulos son una forma de organizar un conjunto de funciones y clases que pueden ser utilizadas en un programa."
   ]
  },
  {
   "cell_type": "code",
   "execution_count": null,
   "metadata": {},
   "outputs": [],
   "source": [
    "import math\n",
    "print(math.pi)"
   ]
  },
  {
   "cell_type": "markdown",
   "metadata": {},
   "source": [
    "\n",
    "* `math` es el nombre del módulo que contiene las funciones matemáticas.\n",
    "* `pi` es el nombre de la función que contiene el valor de `math.pi`.\n",
    "\n",
    "## ¿Qué aprendiste de datos abiertos esta semana?\n",
    "\n",
    "Reconociste que los datos abiertos son una forma de acceder a una fuente de datos proveniente de instituciones gubernamentales, relacionadas primordialmente con el diagnóstico y aplicación de políticas públicas.\n",
    "\n",
    "### Formatos de archivo\n",
    "\n",
    "El formato de archivo primordial en los datos abiertos es el CSV (comma-separated values). Sin embargo, es posible que la información se suba en otros formatos como XLSX, JSON, XML, etc.\n",
    "\n",
    "* `csv` es un formato de archivo para archivos de texto que contienen datos separados por comas.\n",
    "\n",
    "### Metadatos\n",
    "\n",
    "El metadato es una forma de almacenar información que describe una fuente de datos. Por ejemplo:\n",
    "\n",
    "* `descripción` es una descripción de la fuente de datos.\n",
    "* `creadores` son los autores de la fuente de datos.\n",
    "* `rango de tiempo` es un rango de tiempo que describe el periodo de tiempo que abarca la fuente de datos.\n",
    "* `tipo de archivo` es el tipo de archivo que contiene la fuente de datos."
   ]
  }
 ],
 "metadata": {
  "kernelspec": {
   "display_name": "Python 3.9.7 ('base')",
   "language": "python",
   "name": "python3"
  },
  "language_info": {
   "codemirror_mode": {
    "name": "ipython",
    "version": 3
   },
   "file_extension": ".py",
   "mimetype": "text/x-python",
   "name": "python",
   "nbconvert_exporter": "python",
   "pygments_lexer": "ipython3",
   "version": "3.9.7"
  },
  "orig_nbformat": 4,
  "vscode": {
   "interpreter": {
    "hash": "2ec20fde0b319966ac7c4cd02a53fdf089a62230dc10e505bad652672e4cac1e"
   }
  }
 },
 "nbformat": 4,
 "nbformat_minor": 2
}
