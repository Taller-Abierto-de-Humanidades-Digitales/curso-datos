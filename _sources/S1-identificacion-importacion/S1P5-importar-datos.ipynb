{
 "cells": [
  {
   "cell_type": "markdown",
   "id": "f9942ff0",
   "metadata": {},
   "source": [
    "# Importar datos a Google Colab\n",
    "\n",
    "Con \"importar datos\" nos referimos a la manera en la que preparamos la fuente de datos para ser leída por nuestro programa.\n",
    "\n",
    "Existen múltiples maneras de importar la información. Por ejemplo, podemos sencillamente utilizar el mismo método que usamos con nuestro archivo `ejemplo-1.txt`.\n",
    "\n",
    "Descarga el archivo que quieras utilizar en el directorio de Drive en el que vayas a almacenar tus datos.\n",
    "\n",
    "Como ejemplo, voy a utilizar los [casos nacionales de COVID-19 registrados diariamente durante el primer semestre de 2022](https://datos.cdmx.gob.mx/dataset/casos-asociados-a-covid-19/resource/e5f65f40-5904-492a-ae33-1ea98fb73d78?inner_span=True) compartidos por la Secretaría de Salud de Ciudad de México.\n",
    "\n",
    "Descargo el archivo CSV en un directorio de mi computadora. Posteriormente lo subo a mi directorio de datos de Google Drive:\n",
    "\n",
    "``` {image} ../_static/imgs/fuente-datos/subir_a_drive.gif\n",
    ":width: 800px\n",
    ":align: center\n",
    "```\n",
    "\n",
    "Volvemos a nuestro cuaderno de Google Colab. Me aseguro de haber activado Google Drive en mi Google Colab y busco el directorio en el cual está mi archivo. En mi caso: `'/content/drive/MyDrive/Colab Notebooks/curso_datos/casos_nacionales_covid-19_2022_semestre1.csv'`\n",
    "\n",
    "```{image} ../_static/imgs/fuente-datos/ruta_archivo.png\n",
    ":width: 800px\n",
    ":align: center\n",
    "```\n",
    "\n",
    "Con esos pasos, podemos hacer la importación:\n",
    "\n",
    "```python\n",
    "datos = '/content/drive/MyDrive/Colab Notebooks/curso_datos/casos_nacionales_covid-19_2022_semestre1.csv'\n",
    "\n",
    "with open(datos, 'r') as f:\n",
    "  data = f.readlines(10) # agrego este argumento porque el archivo es muy extenso.\n",
    "\n",
    "data\n",
    "```\n",
    "\n",
    "De esta manera hemos logrado incluir el archivo en nuestro cuaderno, pero será muy complejo manipularlo. Por esta razón, es preferible utilizar una librería que nos ayude a procesar estos datos. En nuestro caso, usaremos 'pandas' {cite}`mckinney_python_2018`.\n",
    "\n",
    "Para hacer que nuestro programa funcione, solamente debemos importar la librería:\n",
    "\n",
    "`import pandas as pd`\n",
    "\n",
    "Y posteriormente podremos abrir nuestro archivo desde Python:\n",
    "\n",
    "```python\n",
    "import pandas as pd\n",
    "\n",
    "df = pd.read_csv(datos)\n",
    "df.head()\n",
    "```\n",
    "\n",
    "Puedes ver el resultado de este ejercicio en el siguiente [enlace](https://colab.research.google.com/gist/jairomelo/dca189c897e87b74d5469906d7a9e1fb/mi-cuaderno-de-datos.ipynb)\n",
    "\n",
    "``` {admonition} Problemas comunes\n",
    "Este método funciona con archivos csv, no con archivos de texto o de Excel. Para replicar el ejercicio en este momento te recomendamos seleccionar una fuente de datos en ese formato. \n",
    "\n",
    "También es posible que surja un error al momento de ejecutar la importación. Intenta por esta semana con otra fuente de datos. La siguiente semana detallaremos algunas habilidades que te ayudarán a resolver ese problema.\n",
    "```\n",
    "\n",
    "Intenta replicar el ejercicio con un archivo que sea de tu interés y compártelo con los demás colegas en la siguiente actividad."
   ]
  }
 ],
 "metadata": {
  "jupytext": {
   "cell_metadata_filter": "-all",
   "formats": "md:myst",
   "text_representation": {
    "extension": ".md",
    "format_name": "myst",
    "format_version": 0.13,
    "jupytext_version": "1.14.0"
   }
  },
  "kernelspec": {
   "display_name": "Python 3 (ipykernel)",
   "language": "python",
   "name": "python3"
  },
  "language_info": {
   "codemirror_mode": {
    "name": "ipython",
    "version": 3
   },
   "file_extension": ".py",
   "mimetype": "text/x-python",
   "name": "python",
   "nbconvert_exporter": "python",
   "pygments_lexer": "ipython3",
   "version": "3.8.3"
  },
  "source_map": [
   14
  ]
 },
 "nbformat": 4,
 "nbformat_minor": 5
}