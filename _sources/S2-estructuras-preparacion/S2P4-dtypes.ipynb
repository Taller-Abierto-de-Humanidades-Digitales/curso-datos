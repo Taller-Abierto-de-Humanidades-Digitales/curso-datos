{
 "cells": [
  {
   "cell_type": "markdown",
   "id": "8f6089d8",
   "metadata": {},
   "source": [
    "# Tipos de datos con pandas\n",
    "\n",
    "Ya hemos visto los tipos básicos del lenguaje Python [^footnote1]. Ahora bien, la librería `pandas` también cuenta con una serie de tipos de datos que debemos tener en cuenta para poder realizar nuestras operaciones de análisis. Para complejizar un poco más lo anterior, los tipos de datos de `pandas` se sobreponen con los de otras librerías como `numpy` y `scipy`.\n",
    "\n",
    "## Mapa de tipos de datos de `pandas`\n",
    "\n",
    "Para entender un poco mejor los tipos de datos en `pandas`, veamos la siguiente tabla:\n",
    "\n",
    "| tipo de dato pandas | tipo Python    | uso                                                           |\n",
    "|---------------------|----------------|---------------------------------------------------------------|\n",
    "| object              | str o mezclado | Valores de texto o mezcla de valores numéricos y no numéricos |\n",
    "| int64               | int            | número enteros                                                |\n",
    "| float64             | float          | números decimales                                             |\n",
    "| bool                | bool           | valores de verdad y falsedad                                  |\n",
    "| datetime64          | NA             | valores de fecha y tiempo                                     |\n",
    "| timedelta[ns]       | NA             | valores de diferencia entre dos valores de datetime           |\n",
    "\n",
    "Los tipos de datos int64 y float64 son préstamos de `numpy`. Aunque hay diferecias con los datos `int` y `float` de Python, realmente no afectan el análisis básico de datos que llevaremos a cabo en este curso [^footnote2]. En ese sentido, tenemos tres tipos de datos particulares de `pandas` que detallaremos a continuación.\n",
    "\n",
    "### Tipo de dato `object`\n",
    "\n",
    "El tipo de dato `object` es un tipo de dato que puede contener valores de texto o valores numéricos. Esto hace que sea uno de los tipos más confusos de `pandas` porque puede ser que comprenda una columna de texto, o una con datos numéricos que no se han declarado como int64 o float64, incluso diccionarios o listas.  Podríamos decir que en `pandas` todos los tipos de datos son `object` hasta que se declaren como uno de los tipos de datos específicos.\n",
    "\n",
    "Volvamos a nuestro `ejemplo1` y ahora usemos el módulo `dtypes` para obtener el tipo de dato de cada columna:"
   ]
  },
  {
   "cell_type": "code",
   "execution_count": 1,
   "id": "866d2771",
   "metadata": {},
   "outputs": [
    {
     "data": {
      "text/plain": [
       "Nombre             object\n",
       "Edad                int64\n",
       "Registro             bool\n",
       "Promedio          float64\n",
       "Origen             object\n",
       "Calificaciones     object\n",
       "dtype: object"
      ]
     },
     "execution_count": 1,
     "metadata": {},
     "output_type": "execute_result"
    }
   ],
   "source": [
    "import pandas as pd\n",
    "\n",
    "ejemplo1 = pd.DataFrame(\n",
    "    {\"Nombre\": [\"Andrea\", \"Berenice\", \"Carlos\"], # tipo de datos string\n",
    "    \"Edad\": [34, 51, 26], # tipo de datos int\n",
    "    \"Registro\": [True, False, True], # tipo de datos bool\n",
    "    \"Promedio\": [9.5, 8.5, 10], # tipo de datos float\n",
    "    \"Origen\": [\n",
    "        {\"Ciudad\": \"Ciudad de México\", \"Estado\": \"CDMX\"}, \n",
    "        {\"Ciudad\": \"Guadalajara\", \"Estado\": \"Jalisco\"}, \n",
    "        {\"Ciudad\": \"Toluca\", \"Estado\": \"Estado de México\"}\n",
    "        ], # tipo de datos dict \n",
    "    \"Calificaciones\": [(9, 8, 10), (8, 7, 9), (7, 6, 8)] # tipo de datos tuple\n",
    "    })\n",
    "\n",
    "ejemplo1.dtypes"
   ]
  },
  {
   "cell_type": "markdown",
   "id": "162c4ee3",
   "metadata": {},
   "source": [
    "Vemos que los datos están claramente detallados en el tipo de dato de cada columna. Ahora probemos el mismo método con la fuente de datos que usamos en la sección anterior:"
   ]
  },
  {
   "cell_type": "code",
   "execution_count": 2,
   "id": "4e36ebcb",
   "metadata": {
    "tags": [
     "remove-cell"
    ]
   },
   "outputs": [
    {
     "name": "stderr",
     "output_type": "stream",
     "text": [
      "c:\\users\\jairo\\.virtualenvs\\temp\\lib\\site-packages\\IPython\\core\\interactiveshell.py:3135: DtypeWarning: Columns (13) have mixed types.Specify dtype option on import or set low_memory=False.\n",
      "  has_raised = await self.run_ast_nodes(code_ast.body, cell_name,\n"
     ]
    }
   ],
   "source": [
    "try:\n",
    "  covid_nacional = pd.read_csv('../data/casos_nacionales_covid-19_2022_semestre1.csv')\n",
    "except FileNotFoundError:\n",
    "  covid_nacional = pd.read_csv('../datos/casos_nacionales_covid-19_2022_semestre1.csv')"
   ]
  },
  {
   "cell_type": "code",
   "execution_count": 3,
   "id": "abaa1f39",
   "metadata": {},
   "outputs": [
    {
     "data": {
      "text/plain": [
       "Unnamed: 0                int64\n",
       "fecha_actualizacion      object\n",
       "id_registro              object\n",
       "origen                   object\n",
       "sector                   object\n",
       "entidad_um               object\n",
       "sexo                     object\n",
       "entidad_nac              object\n",
       "entidad_res              object\n",
       "municipio_res            object\n",
       "tipo_paciente            object\n",
       "fecha_ingreso            object\n",
       "fecha_sintomas           object\n",
       "fecha_def                object\n",
       "intubado                 object\n",
       "neumonia                 object\n",
       "edad                      int64\n",
       "nacionalidad             object\n",
       "embarazo                 object\n",
       "habla_lengua_indig       object\n",
       "indigena                 object\n",
       "diabetes                 object\n",
       "epoc                     object\n",
       "asma                     object\n",
       "inmusupr                 object\n",
       "hipertension             object\n",
       "otra_com                 object\n",
       "cardiovascular           object\n",
       "obesidad                 object\n",
       "renal_cronica            object\n",
       "tabaquismo               object\n",
       "otro_caso                object\n",
       "toma_muestra_lab         object\n",
       "resultado_lab            object\n",
       "toma_muestra_antigeno    object\n",
       "resultado_antigeno       object\n",
       "clasificacion_final      object\n",
       "migrante                 object\n",
       "pais_nacionalidad        object\n",
       "pais_origen              object\n",
       "uci                      object\n",
       "dtype: object"
      ]
     },
     "execution_count": 3,
     "metadata": {},
     "output_type": "execute_result"
    }
   ],
   "source": [
    "# modifiqué el nombre del dataframe a covid_nacional para mejor legibilidad\n",
    "covid_nacional.dtypes"
   ]
  },
  {
   "cell_type": "markdown",
   "id": "cacc2bfb",
   "metadata": {},
   "source": [
    "Verás que prácticamente todas las columnas son de tipo object. Esto se debe a que en conjuntos de datos grandes, `pandas` ahorra memoria y tiempo al no declarar los tipos de datos de cada columna. Por esa razón, es muy probable que nos encontremos con fuentes de datos de tipo object aunque su tipo en realidad sea entero, decimal o booleano.\n",
    "\n",
    "### Tipo de dato datetime64\n",
    "\n",
    "El tipo de dato `datetime64` es un tipo de dato que representa una fecha y una hora. El tipo de dato `datetime64` es un préstamo de `numpy` y es un tipo de dato que se puede usar para representar una fecha y una hora.\n",
    "\n",
    "En nuestro ejemplo de datos por Covid 19, las fechas están representadas con el formato AAAA-MM-DD (por ejemplo: 2022-05-03). Para representar una fecha y una hora, podemos usar el formato `datetime64[ns]`. `pandas` incluye una función para convertir una cadena de texto a un tipo de dato `datetime64[ns]` llamada `to_datetime`. Usémosla en la columna 'fecha_ingreso' para ver el resultado"
   ]
  },
  {
   "cell_type": "code",
   "execution_count": 4,
   "id": "e153c4fe",
   "metadata": {},
   "outputs": [
    {
     "data": {
      "text/plain": [
       "0   2022-05-03\n",
       "1   2022-01-13\n",
       "2   2022-01-12\n",
       "3   2022-02-20\n",
       "4   2022-01-12\n",
       "Name: fecha_ingreso, dtype: datetime64[ns]"
      ]
     },
     "execution_count": 4,
     "metadata": {},
     "output_type": "execute_result"
    }
   ],
   "source": [
    "covid_nacional['fecha_ingreso'] = pd.to_datetime(covid_nacional['fecha_ingreso'])\n",
    "covid_nacional['fecha_ingreso'].head()"
   ]
  },
  {
   "cell_type": "markdown",
   "id": "9fddfb45",
   "metadata": {},
   "source": [
    "En este caso el tipo de fecha es bastante simple (año, mes, día). Pero también es posible utilizar el tipo `datetime64` para estabecer la hora y los minutos de la fecha, incluso la unidad de tiempo coordinado (UTC) del dato."
   ]
  },
  {
   "cell_type": "code",
   "execution_count": 5,
   "id": "740e6cab",
   "metadata": {},
   "outputs": [
    {
     "data": {
      "text/plain": [
       "0   2022-05-03 00:00:00+00:00\n",
       "1   2022-01-13 00:00:00+00:00\n",
       "2   2022-01-12 00:00:00+00:00\n",
       "3   2022-02-20 00:00:00+00:00\n",
       "4   2022-01-12 00:00:00+00:00\n",
       "Name: fecha_ingreso, dtype: datetime64[ns, UTC]"
      ]
     },
     "execution_count": 5,
     "metadata": {},
     "output_type": "execute_result"
    }
   ],
   "source": [
    "covid_nacional['fecha_ingreso'] = pd.to_datetime(covid_nacional['fecha_ingreso'], utc=True)\n",
    "covid_nacional['fecha_ingreso'].head()"
   ]
  },
  {
   "cell_type": "markdown",
   "id": "1563e668",
   "metadata": {},
   "source": [
    "En este ejemplo la librería agrega el valor de hora 00:00:00+00:00 al no tener otra referencia para representar la hora. Si hubiese una hora de origen, por ejemplo, la hora de ingreso de un paciente, podría ser relevante hacer esa operación.\n",
    "\n",
    "### Tipo de dato timedelta[ns]\n",
    "\n",
    "El tipo de dato `timedelta[ns]` es un tipo de dato que representa una diferencia de tiempo entre dos valores. Por ejemplo, la diferencia de tiempo en horas, días, minutos o segundos entre dos fechas. Por ejemplo, si queremos saber cuál es la diferencia de tiempo entre los síntomas y el ingreso del paciente a la institución de salud, podemos restar dos valores de `datetime` y obtendremos un valor de `timedelta`."
   ]
  },
  {
   "cell_type": "code",
   "execution_count": 6,
   "id": "c29d8330",
   "metadata": {},
   "outputs": [
    {
     "data": {
      "text/plain": [
       "0   0 days\n",
       "1   3 days\n",
       "2   0 days\n",
       "3   7 days\n",
       "4   2 days\n",
       "Name: diferencia_tiempo, dtype: timedelta64[ns]"
      ]
     },
     "execution_count": 6,
     "metadata": {},
     "output_type": "execute_result"
    }
   ],
   "source": [
    "covid_nacional['fecha_sintomas'] = pd.to_datetime(covid_nacional['fecha_sintomas'], utc=True)\n",
    "covid_nacional['diferencia_tiempo'] = covid_nacional['fecha_ingreso'] - covid_nacional['fecha_sintomas']\n",
    "covid_nacional['diferencia_tiempo'].head()"
   ]
  },
  {
   "cell_type": "markdown",
   "id": "baa21ffb",
   "metadata": {},
   "source": [
    "Incluso podemos hacer alguna operación estadística simple, como hallar el promedio de estos valores de `timedelta`."
   ]
  },
  {
   "cell_type": "code",
   "execution_count": 7,
   "id": "619ca91b",
   "metadata": {},
   "outputs": [
    {
     "data": {
      "text/plain": [
       "Timedelta('1 days 19:32:13.920714831')"
      ]
     },
     "execution_count": 7,
     "metadata": {},
     "output_type": "execute_result"
    }
   ],
   "source": [
    "covid_nacional['diferencia_tiempo'].mean()"
   ]
  },
  {
   "cell_type": "markdown",
   "id": "d63363a4",
   "metadata": {},
   "source": [
    "De manera muy rápida podemos afirmar que la diferencia de tiempo entre los síntomas y el ingreso del paciente es, en promedio, de un día y 19 horas.\n",
    "\n",
    "## Actividad\n",
    "\n",
    "En el [foro](https://github.com/Taller-Abierto-de-Humanidades-Digitales/curso-datos/discussions/new?category=actividades&title=Actividad%20descripción%20con%20dtypes&body=El%20contenido%20de%20tu%20%20actividad), describe la forma de la fuente de datos:\n",
    "\n",
    "* Número de filas\n",
    "* Número de columnas\n",
    "* Nombre de las columnas\n",
    "\n",
    "Y, usando el módulo `dtypes` analiza los tipos de datos que tienes en tu DataFrame (int, float, object).\n",
    "\n",
    "Comparte con los demás colegas la descripción de la fuente de datos y solamente con estos datos comenta qué posibilidades y retos encuentras con la fuente de información de por lo menos otros dos colegas.\n",
    "\n",
    "## Notas\n",
    "\n",
    "[^footnote1]: Los tipos básicos (primitivos o integrados) dependen de cada lenguaje. En ciertos lenguajes como Java existen tipos de datos como byte, short, long y double, que hacen más preciso el manejo de los datos. Una gran ventaja de Python es que sintetiza estos tipos de datos, que son un tanto más abstractos, en favor de la legibilidad. Para un listado completo de estos tipos de datos en Python puedes consultar la [documentación de Python](https://docs.python.org/es/3/library/stdtypes.html#types-and-values).\n",
    "\n",
    "[^footnote2]: `pandas` usa este tipo de datos porque son computacionalmente más precisos que los de Python, lo cual hace más rápido procesar grandes cantidades de datos.\n",
    "\n",
    "[^footnote3]: Este tipo de dato es similar a los 'factors' de R. Los factores son una forma de representar una variable categórica, en la que cada valor de la variable es una categoría.Sobre este tipo de datos puedes consultar la siguiente [página](https://swcarpentry.github.io/r-novice-inflammation/12-supp-factors/index.html)."
   ]
  }
 ],
 "metadata": {
  "jupytext": {
   "cell_metadata_filter": "-all",
   "formats": "md:myst",
   "text_representation": {
    "extension": ".md",
    "format_name": "myst",
    "format_version": 0.13,
    "jupytext_version": "1.14.1"
   }
  },
  "kernelspec": {
   "display_name": "Python 3 (ipykernel)",
   "language": "python",
   "name": "python3"
  },
  "language_info": {
   "codemirror_mode": {
    "name": "ipython",
    "version": 3
   },
   "file_extension": ".py",
   "mimetype": "text/x-python",
   "name": "python",
   "nbconvert_exporter": "python",
   "pygments_lexer": "ipython3",
   "version": "3.8.3"
  },
  "source_map": [
   14,
   41,
   58,
   62,
   70,
   73,
   83,
   86,
   90,
   93,
   101,
   105,
   109,
   111
  ]
 },
 "nbformat": 4,
 "nbformat_minor": 5
}