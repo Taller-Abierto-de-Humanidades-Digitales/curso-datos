{
 "cells": [
  {
   "cell_type": "markdown",
   "id": "967762ff",
   "metadata": {},
   "source": [
    "# Agrupar"
   ]
  },
  {
   "cell_type": "code",
   "execution_count": 1,
   "id": "7ae42eef",
   "metadata": {
    "tags": [
     "remove-cell"
    ]
   },
   "outputs": [
    {
     "name": "stderr",
     "output_type": "stream",
     "text": [
      "c:\\users\\jairo\\.virtualenvs\\temp\\lib\\site-packages\\IPython\\core\\interactiveshell.py:3135: DtypeWarning: Columns (11) have mixed types.Specify dtype option on import or set low_memory=False.\n",
      "  has_raised = await self.run_ast_nodes(code_ast.body, cell_name,\n"
     ]
    }
   ],
   "source": [
    "import pandas as pd\n",
    "\n",
    "muestra_covid = pd.read_csv('../data/muestra_covid.csv')\n",
    "geolocalizacion = pd.read_csv('../data/geolocalizacion.csv')"
   ]
  },
  {
   "cell_type": "markdown",
   "id": "f403de23",
   "metadata": {},
   "source": [
    "Las operaciones de agrupación suelen ser relevantes para analizar el comportamiento de los datos. En este caso, `pandas` regresa una 'serie' de datos con la información agrupada, por columna, de acuerdo con el criterio que nosotros consideremos relevante.\n",
    "\n",
    "Por ejemplo, podemos agrupar nuestros datos por `sexo` y obtener un conteo de los valores:"
   ]
  },
  {
   "cell_type": "code",
   "execution_count": 2,
   "id": "83524693",
   "metadata": {},
   "outputs": [
    {
     "data": {
      "text/html": [
       "<div>\n",
       "<style scoped>\n",
       "    .dataframe tbody tr th:only-of-type {\n",
       "        vertical-align: middle;\n",
       "    }\n",
       "\n",
       "    .dataframe tbody tr th {\n",
       "        vertical-align: top;\n",
       "    }\n",
       "\n",
       "    .dataframe thead th {\n",
       "        text-align: right;\n",
       "    }\n",
       "</style>\n",
       "<table border=\"1\" class=\"dataframe\">\n",
       "  <thead>\n",
       "    <tr style=\"text-align: right;\">\n",
       "      <th></th>\n",
       "      <th>Unnamed: 0</th>\n",
       "      <th>edad</th>\n",
       "      <th>entidad_nacimiento</th>\n",
       "      <th>municipio_residencia</th>\n",
       "      <th>indigena</th>\n",
       "      <th>nacionalidad</th>\n",
       "      <th>migrante</th>\n",
       "      <th>pais_nacionalidad</th>\n",
       "      <th>fecha_ingreso</th>\n",
       "      <th>fecha_sintomas</th>\n",
       "      <th>fecha_def</th>\n",
       "    </tr>\n",
       "    <tr>\n",
       "      <th>sexo</th>\n",
       "      <th></th>\n",
       "      <th></th>\n",
       "      <th></th>\n",
       "      <th></th>\n",
       "      <th></th>\n",
       "      <th></th>\n",
       "      <th></th>\n",
       "      <th></th>\n",
       "      <th></th>\n",
       "      <th></th>\n",
       "      <th></th>\n",
       "    </tr>\n",
       "  </thead>\n",
       "  <tbody>\n",
       "    <tr>\n",
       "      <th>HOMBRE</th>\n",
       "      <td>589510</td>\n",
       "      <td>589510</td>\n",
       "      <td>589510</td>\n",
       "      <td>74140</td>\n",
       "      <td>589510</td>\n",
       "      <td>589510</td>\n",
       "      <td>589510</td>\n",
       "      <td>589510</td>\n",
       "      <td>589510</td>\n",
       "      <td>589510</td>\n",
       "      <td>2106</td>\n",
       "    </tr>\n",
       "    <tr>\n",
       "      <th>MUJER</th>\n",
       "      <td>733991</td>\n",
       "      <td>733991</td>\n",
       "      <td>733991</td>\n",
       "      <td>75567</td>\n",
       "      <td>733991</td>\n",
       "      <td>733991</td>\n",
       "      <td>733991</td>\n",
       "      <td>733991</td>\n",
       "      <td>733991</td>\n",
       "      <td>733991</td>\n",
       "      <td>1483</td>\n",
       "    </tr>\n",
       "  </tbody>\n",
       "</table>\n",
       "</div>"
      ],
      "text/plain": [
       "        Unnamed: 0    edad  entidad_nacimiento  municipio_residencia  \\\n",
       "sexo                                                                   \n",
       "HOMBRE      589510  589510              589510                 74140   \n",
       "MUJER       733991  733991              733991                 75567   \n",
       "\n",
       "        indigena  nacionalidad  migrante  pais_nacionalidad  fecha_ingreso  \\\n",
       "sexo                                                                         \n",
       "HOMBRE    589510        589510    589510             589510         589510   \n",
       "MUJER     733991        733991    733991             733991         733991   \n",
       "\n",
       "        fecha_sintomas  fecha_def  \n",
       "sexo                               \n",
       "HOMBRE          589510       2106  \n",
       "MUJER           733991       1483  "
      ]
     },
     "execution_count": 2,
     "metadata": {},
     "output_type": "execute_result"
    }
   ],
   "source": [
    "muestra_covid.groupby('sexo').count()"
   ]
  },
  {
   "cell_type": "markdown",
   "id": "0d7719cc",
   "metadata": {},
   "source": [
    "El resultado es un conteo que nos indica cuántos valores coinciden con la etiqueta `'HOMBRE'` y cuántos con `'MUJER'`.\n",
    "\n",
    "Con valores numéricos, podemos realizar otras operaciones, por ejemplo, la media de edad:"
   ]
  },
  {
   "cell_type": "code",
   "execution_count": 3,
   "id": "2e4c6815",
   "metadata": {},
   "outputs": [
    {
     "data": {
      "text/plain": [
       "sexo\n",
       "HOMBRE    36.978482\n",
       "MUJER     38.362363\n",
       "Name: edad, dtype: float64"
      ]
     },
     "execution_count": 3,
     "metadata": {},
     "output_type": "execute_result"
    }
   ],
   "source": [
    "muestra_covid.groupby('sexo').edad.mean()"
   ]
  },
  {
   "cell_type": "markdown",
   "id": "fcb3d029",
   "metadata": {},
   "source": [
    "El resultado nos muestra la media de edad de los hombres y de las mujeres en todo nuestro conjunto de datos.\n",
    "\n",
    "Igualmente lo podemos hacer con otras categorías. Por ejemplo:"
   ]
  },
  {
   "cell_type": "code",
   "execution_count": 4,
   "id": "62a475da",
   "metadata": {},
   "outputs": [
    {
     "data": {
      "text/plain": [
       "indigena\n",
       "NO                 37.717849\n",
       "NO ESPECIFICADO    37.973184\n",
       "SI                 39.989405\n",
       "Name: edad, dtype: float64"
      ]
     },
     "execution_count": 4,
     "metadata": {},
     "output_type": "execute_result"
    }
   ],
   "source": [
    "muestra_covid.groupby('indigena').edad.mean()"
   ]
  },
  {
   "cell_type": "markdown",
   "id": "54de0d5b",
   "metadata": {},
   "source": [
    "`groupby()` es una función muy útil y rápida para describir la información que tenemos, especialmente si es un conjunto de datos bastante grande."
   ]
  }
 ],
 "metadata": {
  "jupytext": {
   "cell_metadata_filter": "-all",
   "formats": "md:myst",
   "text_representation": {
    "extension": ".md",
    "format_name": "myst",
    "format_version": 0.13,
    "jupytext_version": "1.14.0"
   }
  },
  "kernelspec": {
   "display_name": "Python 3 (ipykernel)",
   "language": "python",
   "name": "python3"
  },
  "language_info": {
   "codemirror_mode": {
    "name": "ipython",
    "version": 3
   },
   "file_extension": ".py",
   "mimetype": "text/x-python",
   "name": "python",
   "nbconvert_exporter": "python",
   "pygments_lexer": "ipython3",
   "version": "3.8.3"
  },
  "source_map": [
   14,
   18,
   24,
   30,
   32,
   38,
   40,
   46,
   48
  ]
 },
 "nbformat": 4,
 "nbformat_minor": 5
}