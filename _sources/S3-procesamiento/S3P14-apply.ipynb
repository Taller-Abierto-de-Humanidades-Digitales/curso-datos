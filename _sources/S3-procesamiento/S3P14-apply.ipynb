{
 "cells": [
  {
   "cell_type": "markdown",
   "id": "8802e03c",
   "metadata": {},
   "source": [
    "# El método `apply()`"
   ]
  },
  {
   "cell_type": "code",
   "execution_count": 1,
   "id": "e42a7b87",
   "metadata": {
    "tags": [
     "remove-cell"
    ]
   },
   "outputs": [
    {
     "name": "stderr",
     "output_type": "stream",
     "text": [
      "c:\\users\\jairo\\.virtualenvs\\temp\\lib\\site-packages\\IPython\\core\\interactiveshell.py:3135: DtypeWarning: Columns (11) have mixed types.Specify dtype option on import or set low_memory=False.\n",
      "  has_raised = await self.run_ast_nodes(code_ast.body, cell_name,\n"
     ]
    }
   ],
   "source": [
    "import pandas as pd\n",
    "\n",
    "muestra_covid = pd.read_csv('../data/muestra_covid.csv')\n",
    "geolocalizacion = pd.read_csv('../data/geolocalizacion.csv')"
   ]
  },
  {
   "cell_type": "markdown",
   "id": "f75c635f",
   "metadata": {},
   "source": [
    "Habrás notado que utilizamos el método `apply()` para realizar una transformación a [datos numéricos](../S3-procesamiento/S3P10-tonumeric.md) pero evitamos hacerlo en la transformación a [`datetime`](../S3-procesamiento/S3P11-todatetime.md). Esto se debe a que el método `apply()` es básicamente un `for loop` sobre una serie de filas de datos. En este sentido, no toda operación puede valerse de esta función para hacer una transformación. En este sentido, es muy útil el capítulo 6 del libro de {cite}`stepanek_thinking_2020`.\n",
    "\n",
    "`apply()` es particularmente útil cuando lo utilizamos para realizar operaciones repetitivas a través de una función. Por ejemplo, construyamos una función simple para determinar el año de nacimiento de cada persona de `muestra_covid` tomando como base la edad:"
   ]
  },
  {
   "cell_type": "code",
   "execution_count": 2,
   "id": "90e1b367",
   "metadata": {},
   "outputs": [],
   "source": [
    "def calcular_edad(edad):\n",
    "    return 2022 - edad"
   ]
  },
  {
   "cell_type": "markdown",
   "id": "fcf1724f",
   "metadata": {},
   "source": [
    "Así, podemos crear una columna que se llame `año_nacimiento` en la que se guarde el resultado de aplicar esta función a la columna `edad`."
   ]
  },
  {
   "cell_type": "code",
   "execution_count": 3,
   "id": "d3f6e3e4",
   "metadata": {},
   "outputs": [],
   "source": [
    "muestra_covid['año_nacimiento'] = muestra_covid.edad.apply(calcular_edad)"
   ]
  },
  {
   "cell_type": "markdown",
   "id": "b9a5314b",
   "metadata": {},
   "source": [
    "Este es un ejemplo muy simple (que tal vez no amerite el uso de `apply()`) pero permite ejemplificar cómo podría ser utilizado este método.\n",
    "\n",
    "```{admonition} Otros usos\n",
    ":class: tip\n",
    "Uno de los usos más recurridos de `apply()` es combinarlo con la función `groupby()`. Un interesante ejemplo de cómo realizar esta aplicación está dado en el artículo {cite}`whorton_applying_2021`.\n",
    "```"
   ]
  }
 ],
 "metadata": {
  "jupytext": {
   "cell_metadata_filter": "-all",
   "formats": "md:myst",
   "text_representation": {
    "extension": ".md",
    "format_name": "myst",
    "format_version": 0.13,
    "jupytext_version": "1.14.0"
   }
  },
  "kernelspec": {
   "display_name": "Python 3 (ipykernel)",
   "language": "python",
   "name": "python3"
  },
  "language_info": {
   "codemirror_mode": {
    "name": "ipython",
    "version": 3
   },
   "file_extension": ".py",
   "mimetype": "text/x-python",
   "name": "python",
   "nbconvert_exporter": "python",
   "pygments_lexer": "ipython3",
   "version": "3.8.3"
  },
  "source_map": [
   14,
   18,
   24,
   30,
   33,
   37,
   39
  ]
 },
 "nbformat": 4,
 "nbformat_minor": 5
}