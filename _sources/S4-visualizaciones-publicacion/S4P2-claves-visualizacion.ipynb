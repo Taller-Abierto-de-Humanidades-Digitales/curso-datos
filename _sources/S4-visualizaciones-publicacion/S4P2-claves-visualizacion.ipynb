{
 "cells": [
  {
   "cell_type": "markdown",
   "id": "245188d4",
   "metadata": {},
   "source": [
    "# Bases para la visualización de datos\n",
    "\n",
    "Como bien subrayan Dougherty e Ilyankou {cite}`dougherty_hands-data_2021` la clave de nuestras visualizaciones consiste en comparar dos o más variables. Por ejemplo, cantidad de contagios y tiempo; o defunciones y sexo. Decidir qué variables comparamos es relevante porque nos da la pauta para elegir el tipo de visualización que mejor se adapta a nuestro objetivo.\n",
    "\n",
    "Aunque ya tengamos nuestros datos limpios, tendremos que realizar algunas operaciones para poderlos comparar. Esto es, requeriremos sumar, promediar, contar, hacer porcentajes, entre otras operaciones.\n",
    "\n",
    "Afortunadamente, al ser acciones tan comunes, la mayoría de programas que trabajan con datos incluyen procesos para hacer esos cálculos. Te mostraremos algunos ejemplos de operaciones que podemos realizar con los datos de la pandemia que hemos limpiado anteriormente.\n",
    "\n",
    "Notarás que no son los únicos cálculos posibles y que tal vez podríamos realizar otros si no hubiésemos descartados algunas columnas previamente. Esto es algo común en el análisis de datos. Tendrás que segmentar, ampliar o reducir tus datos, en el camino, tendrás que tomar decisiones que te ayudarán a enfocar tu análisis y no será extraño que regreses al conjunto de datos original para realizar nuevas operaciones.\n",
    "\n",
    "## Sumar\n",
    "\n",
    "Esta es una operación aritmética sumamente común. Por ejemplo, podemos querer establecer la cantidad de defunciones por día. Para ello, vamos a necesitar modificar nuestros datos para incluir un valor de 1 en cada fila donde se haya registrado un deceso (fecha_def):"
   ]
  },
  {
   "cell_type": "code",
   "execution_count": 1,
   "id": "3c599d88",
   "metadata": {
    "tags": [
     "remove-cell"
    ]
   },
   "outputs": [],
   "source": [
    "ruta_datos = '../data/covid_clean.csv'"
   ]
  },
  {
   "cell_type": "code",
   "execution_count": 2,
   "id": "84d16415",
   "metadata": {},
   "outputs": [],
   "source": [
    "import pandas as pd\n",
    "datos_covid = pd.read_csv(ruta_datos)\n",
    "datos_covid['decesos'] = datos_covid['fecha_def'].apply(lambda x: 1 if pd.notnull(x) else 0)"
   ]
  },
  {
   "cell_type": "markdown",
   "id": "5c826262",
   "metadata": {},
   "source": [
    "Ahora, podremos agrupar por fecha y sumar las muertes:"
   ]
  },
  {
   "cell_type": "code",
   "execution_count": 3,
   "id": "595a1488",
   "metadata": {},
   "outputs": [
    {
     "data": {
      "text/html": [
       "<div>\n",
       "<style scoped>\n",
       "    .dataframe tbody tr th:only-of-type {\n",
       "        vertical-align: middle;\n",
       "    }\n",
       "\n",
       "    .dataframe tbody tr th {\n",
       "        vertical-align: top;\n",
       "    }\n",
       "\n",
       "    .dataframe thead th {\n",
       "        text-align: right;\n",
       "    }\n",
       "</style>\n",
       "<table border=\"1\" class=\"dataframe\">\n",
       "  <thead>\n",
       "    <tr style=\"text-align: right;\">\n",
       "      <th></th>\n",
       "      <th>fecha_def</th>\n",
       "      <th>fallecidos_diarios</th>\n",
       "    </tr>\n",
       "  </thead>\n",
       "  <tbody>\n",
       "    <tr>\n",
       "      <th>0</th>\n",
       "      <td>2022-01-03</td>\n",
       "      <td>2</td>\n",
       "    </tr>\n",
       "    <tr>\n",
       "      <th>1</th>\n",
       "      <td>2022-01-04</td>\n",
       "      <td>1</td>\n",
       "    </tr>\n",
       "    <tr>\n",
       "      <th>2</th>\n",
       "      <td>2022-01-05</td>\n",
       "      <td>2</td>\n",
       "    </tr>\n",
       "    <tr>\n",
       "      <th>3</th>\n",
       "      <td>2022-01-06</td>\n",
       "      <td>3</td>\n",
       "    </tr>\n",
       "    <tr>\n",
       "      <th>4</th>\n",
       "      <td>2022-01-07</td>\n",
       "      <td>7</td>\n",
       "    </tr>\n",
       "  </tbody>\n",
       "</table>\n",
       "</div>"
      ],
      "text/plain": [
       "    fecha_def  fallecidos_diarios\n",
       "0  2022-01-03                   2\n",
       "1  2022-01-04                   1\n",
       "2  2022-01-05                   2\n",
       "3  2022-01-06                   3\n",
       "4  2022-01-07                   7"
      ]
     },
     "execution_count": 3,
     "metadata": {},
     "output_type": "execute_result"
    }
   ],
   "source": [
    "muertes_diarias = datos_covid.groupby('fecha_def')['decesos'].sum().reset_index(name='fallecidos_diarios')\n",
    "muertes_diarias.head()"
   ]
  },
  {
   "cell_type": "markdown",
   "id": "3fadf68e",
   "metadata": {},
   "source": [
    "## Promedio\n",
    "\n",
    "Por ejemplo, un dato interesante que podríamos querer reconocer es el promedio de edad de las personas contagiadas por Covid-19 en el primer semestre de 2022. Aunque técnicamente podemos hacer este cálculo por nuestra cuenta (sumar todas las edades y dividir por el número de personas), es más fácil que `pandas` lo haga por nosotros."
   ]
  },
  {
   "cell_type": "code",
   "execution_count": 4,
   "id": "68f375cc",
   "metadata": {},
   "outputs": [
    {
     "data": {
      "text/plain": [
       "36.94687035455609"
      ]
     },
     "execution_count": 4,
     "metadata": {},
     "output_type": "execute_result"
    }
   ],
   "source": [
    "datos_covid['edad'].mean()"
   ]
  },
  {
   "cell_type": "markdown",
   "id": "f0fa4e34",
   "metadata": {},
   "source": [
    "Aquí estamos realizando un cálculo de promedio bastante simple (la cantidad por el total de elementos). Ahora, supongamos que queremos saber el promedio de edad por sexo:"
   ]
  },
  {
   "cell_type": "code",
   "execution_count": 5,
   "id": "b430d4aa",
   "metadata": {},
   "outputs": [
    {
     "data": {
      "text/plain": [
       "sexo\n",
       "HOMBRE    36.796708\n",
       "MUJER     37.094279\n",
       "Name: edad, dtype: float64"
      ]
     },
     "execution_count": 5,
     "metadata": {},
     "output_type": "execute_result"
    }
   ],
   "source": [
    "promedio_es = datos_covid.groupby('sexo')['edad'].mean()\n",
    "promedio_es"
   ]
  },
  {
   "cell_type": "markdown",
   "id": "84c30f92",
   "metadata": {},
   "source": [
    "Como vemos es prácticamente indistinta la edad de mujeres y hombres con relación a sus contagios, esto podría indicar que no existe una correlación entre edad, sexo y contagio."
   ]
  },
  {
   "cell_type": "code",
   "execution_count": 6,
   "id": "1b4beb1d",
   "metadata": {},
   "outputs": [
    {
     "data": {
      "text/plain": [
       "HOMBRE   -0.008921\n",
       "MUJER     0.008921\n",
       "dtype: float64"
      ]
     },
     "execution_count": 6,
     "metadata": {},
     "output_type": "execute_result"
    }
   ],
   "source": [
    "c_corr = datos_covid.sexo.str.get_dummies().corrwith(datos_covid.edad)\n",
    "c_corr"
   ]
  },
  {
   "cell_type": "markdown",
   "id": "f14058bc",
   "metadata": {},
   "source": [
    "El resultado de la correlación entre edad y sexo es prácticamente cero, muy alejada de cualquier valor que indique una correlación fuerte.\n",
    "\n",
    "## Porcentaje\n",
    "\n",
    "También podríamos calcular el porcentaje de infectados por país de origen (excluyendo México, obviamente):"
   ]
  },
  {
   "cell_type": "code",
   "execution_count": 7,
   "id": "015b22b4",
   "metadata": {},
   "outputs": [
    {
     "data": {
      "text/html": [
       "<div>\n",
       "<style scoped>\n",
       "    .dataframe tbody tr th:only-of-type {\n",
       "        vertical-align: middle;\n",
       "    }\n",
       "\n",
       "    .dataframe tbody tr th {\n",
       "        vertical-align: top;\n",
       "    }\n",
       "\n",
       "    .dataframe thead th {\n",
       "        text-align: right;\n",
       "    }\n",
       "</style>\n",
       "<table border=\"1\" class=\"dataframe\">\n",
       "  <thead>\n",
       "    <tr style=\"text-align: right;\">\n",
       "      <th></th>\n",
       "      <th>pais</th>\n",
       "      <th>porcentaje</th>\n",
       "    </tr>\n",
       "  </thead>\n",
       "  <tbody>\n",
       "    <tr>\n",
       "      <th>0</th>\n",
       "      <td>estados unidos de américa</td>\n",
       "      <td>39.560440</td>\n",
       "    </tr>\n",
       "    <tr>\n",
       "      <th>1</th>\n",
       "      <td>venezuela</td>\n",
       "      <td>8.131868</td>\n",
       "    </tr>\n",
       "    <tr>\n",
       "      <th>2</th>\n",
       "      <td>colombia</td>\n",
       "      <td>5.714286</td>\n",
       "    </tr>\n",
       "    <tr>\n",
       "      <th>3</th>\n",
       "      <td>argentina</td>\n",
       "      <td>5.274725</td>\n",
       "    </tr>\n",
       "    <tr>\n",
       "      <th>4</th>\n",
       "      <td>cuba</td>\n",
       "      <td>5.274725</td>\n",
       "    </tr>\n",
       "    <tr>\n",
       "      <th>5</th>\n",
       "      <td>otro</td>\n",
       "      <td>3.956044</td>\n",
       "    </tr>\n",
       "    <tr>\n",
       "      <th>6</th>\n",
       "      <td>españa</td>\n",
       "      <td>3.956044</td>\n",
       "    </tr>\n",
       "    <tr>\n",
       "      <th>7</th>\n",
       "      <td>república de honduras</td>\n",
       "      <td>2.857143</td>\n",
       "    </tr>\n",
       "    <tr>\n",
       "      <th>8</th>\n",
       "      <td>chile</td>\n",
       "      <td>2.417582</td>\n",
       "    </tr>\n",
       "    <tr>\n",
       "      <th>9</th>\n",
       "      <td>brasil</td>\n",
       "      <td>2.197802</td>\n",
       "    </tr>\n",
       "  </tbody>\n",
       "</table>\n",
       "</div>"
      ],
      "text/plain": [
       "                        pais  porcentaje\n",
       "0  estados unidos de américa   39.560440\n",
       "1                  venezuela    8.131868\n",
       "2                   colombia    5.714286\n",
       "3                  argentina    5.274725\n",
       "4                       cuba    5.274725\n",
       "5                       otro    3.956044\n",
       "6                     españa    3.956044\n",
       "7      república de honduras    2.857143\n",
       "8                      chile    2.417582\n",
       "9                     brasil    2.197802"
      ]
     },
     "execution_count": 7,
     "metadata": {},
     "output_type": "execute_result"
    }
   ],
   "source": [
    "datos_covid['pais_nacionalidad'] = datos_covid['pais_nacionalidad'].str.lower()\n",
    "porcentaje_pais = datos_covid[datos_covid.pais_nacionalidad != 'méxico'].groupby('pais_nacionalidad').size() / datos_covid[datos_covid.pais_nacionalidad != 'méxico'].shape[0] * 100\n",
    "# nombrar las columnas\n",
    "porcentaje_pais.name = 'porcentaje'\n",
    "porcentaje_pais.index.name = 'pais'\n",
    "# ordenar por porcentaje\n",
    "porcentaje_pais = porcentaje_pais.reset_index()\n",
    "porcentaje_pais.sort_values(by='porcentaje', ascending=False, inplace=True)\n",
    "porcentaje_pais.reset_index(drop=True, inplace=True)\n",
    "porcentaje_pais[:10]"
   ]
  },
  {
   "cell_type": "markdown",
   "id": "517651bd",
   "metadata": {},
   "source": [
    "Ahora, hagamos el cálculo del porcentaje de contagios por país de origen teniendo en cuenta el tipo de migrante."
   ]
  },
  {
   "cell_type": "code",
   "execution_count": 8,
   "id": "4af349e7",
   "metadata": {},
   "outputs": [
    {
     "data": {
      "text/html": [
       "<div>\n",
       "<style scoped>\n",
       "    .dataframe tbody tr th:only-of-type {\n",
       "        vertical-align: middle;\n",
       "    }\n",
       "\n",
       "    .dataframe tbody tr th {\n",
       "        vertical-align: top;\n",
       "    }\n",
       "\n",
       "    .dataframe thead th {\n",
       "        text-align: right;\n",
       "    }\n",
       "</style>\n",
       "<table border=\"1\" class=\"dataframe\">\n",
       "  <thead>\n",
       "    <tr style=\"text-align: right;\">\n",
       "      <th></th>\n",
       "      <th>pais_nacionalidad</th>\n",
       "      <th>SI</th>\n",
       "      <th>NO</th>\n",
       "      <th>NO ESPECIFICADO</th>\n",
       "    </tr>\n",
       "  </thead>\n",
       "  <tbody>\n",
       "    <tr>\n",
       "      <th>0</th>\n",
       "      <td>estados unidos de américa</td>\n",
       "      <td>31.2500</td>\n",
       "      <td>41.208791</td>\n",
       "      <td>37.037037</td>\n",
       "    </tr>\n",
       "    <tr>\n",
       "      <th>1</th>\n",
       "      <td>cuba</td>\n",
       "      <td>12.5000</td>\n",
       "      <td>4.120879</td>\n",
       "      <td>3.703704</td>\n",
       "    </tr>\n",
       "    <tr>\n",
       "      <th>2</th>\n",
       "      <td>venezuela</td>\n",
       "      <td>10.9375</td>\n",
       "      <td>7.967033</td>\n",
       "      <td>3.703704</td>\n",
       "    </tr>\n",
       "    <tr>\n",
       "      <th>3</th>\n",
       "      <td>república de honduras</td>\n",
       "      <td>7.8125</td>\n",
       "      <td>1.648352</td>\n",
       "      <td>7.407407</td>\n",
       "    </tr>\n",
       "    <tr>\n",
       "      <th>4</th>\n",
       "      <td>colombia</td>\n",
       "      <td>7.8125</td>\n",
       "      <td>4.670330</td>\n",
       "      <td>14.814815</td>\n",
       "    </tr>\n",
       "    <tr>\n",
       "      <th>5</th>\n",
       "      <td>argentina</td>\n",
       "      <td>3.1250</td>\n",
       "      <td>6.043956</td>\n",
       "      <td>0.000000</td>\n",
       "    </tr>\n",
       "    <tr>\n",
       "      <th>6</th>\n",
       "      <td>haití</td>\n",
       "      <td>3.1250</td>\n",
       "      <td>0.549451</td>\n",
       "      <td>0.000000</td>\n",
       "    </tr>\n",
       "    <tr>\n",
       "      <th>7</th>\n",
       "      <td>guatemala</td>\n",
       "      <td>3.1250</td>\n",
       "      <td>1.098901</td>\n",
       "      <td>0.000000</td>\n",
       "    </tr>\n",
       "    <tr>\n",
       "      <th>8</th>\n",
       "      <td>españa</td>\n",
       "      <td>3.1250</td>\n",
       "      <td>4.120879</td>\n",
       "      <td>3.703704</td>\n",
       "    </tr>\n",
       "    <tr>\n",
       "      <th>9</th>\n",
       "      <td>canadá</td>\n",
       "      <td>3.1250</td>\n",
       "      <td>1.373626</td>\n",
       "      <td>3.703704</td>\n",
       "    </tr>\n",
       "  </tbody>\n",
       "</table>\n",
       "</div>"
      ],
      "text/plain": [
       "           pais_nacionalidad       SI         NO  NO ESPECIFICADO\n",
       "0  estados unidos de américa  31.2500  41.208791        37.037037\n",
       "1                       cuba  12.5000   4.120879         3.703704\n",
       "2                  venezuela  10.9375   7.967033         3.703704\n",
       "3      república de honduras   7.8125   1.648352         7.407407\n",
       "4                   colombia   7.8125   4.670330        14.814815\n",
       "5                  argentina   3.1250   6.043956         0.000000\n",
       "6                      haití   3.1250   0.549451         0.000000\n",
       "7                  guatemala   3.1250   1.098901         0.000000\n",
       "8                     españa   3.1250   4.120879         3.703704\n",
       "9                     canadá   3.1250   1.373626         3.703704"
      ]
     },
     "execution_count": 8,
     "metadata": {},
     "output_type": "execute_result"
    }
   ],
   "source": [
    "from functools import reduce # vamos a aprovechar la función reduce para hacer un merge de los dataframes\n",
    "\n",
    "tipos_migracion = ['SI', 'NO', 'NO ESPECIFICADO']\n",
    "\n",
    "# Esta es una larga lista de acciones que están escritas de una manera sintética\n",
    "\n",
    "# 1. Filtrar por tipo de migración\n",
    "dfs = [datos_covid[(datos_covid.migrante == tipo) & (datos_covid.pais_nacionalidad != 'méxico')].groupby('pais_nacionalidad').size() / datos_covid[(datos_covid.migrante == tipo) & (datos_covid.pais_nacionalidad != 'méxico')].shape[0] * 100 for tipo in tipos_migracion]\n",
    "\n",
    "# 2. Renombrar las columnas\n",
    "dfsname = []\n",
    "\n",
    "for df, tipo in zip(dfs, tipos_migracion):\n",
    "    df.name = tipo\n",
    "    df.index.name = 'pais_nacionalidad'\n",
    "    df = df.reset_index()\n",
    "    df.sort_values(by=tipo, ascending=False, inplace=True)\n",
    "    df.reset_index(drop=True, inplace=True)\n",
    "    dfsname.append(df)\n",
    "\n",
    "# 3. Unir los dataframes\n",
    "porcentaje_pais = reduce(lambda left, right: pd.merge(left, right, on='pais_nacionalidad', how='outer'), dfsname)\n",
    "porcentaje_pais.fillna(0, inplace=True)\n",
    "porcentaje_pais.sort_values(by='SI', ascending=False, inplace=True)\n",
    "porcentaje_pais.reset_index(drop=True, inplace=True)\n",
    "porcentaje_pais[:10]"
   ]
  },
  {
   "cell_type": "markdown",
   "id": "aa156080",
   "metadata": {},
   "source": [
    "Ahora tenemos un escenario más preciso. Ya no sabemos solamente cuántos contagios tenemos por país de origen, sino tenemos un valor que representa cuál es el porcentaje de cada uno de estas nacionalidad en el conjunto general de extranjeros. Además, podemos contrastar entre aquellos que son migrantes y aquellos que simplemente están de visita, o que no lo especificaron.\n",
    "\n",
    "En esta tabla tenemos el dato ordenado por migrantes y solamente incluye el top 10 de países de origen. Pero hay sutilezas que podríamos explorar con mayor detalle, por ejemplo, de cuáles países se contagiaron mayor cantidad de visitantes que de migrantes, cuál es el orden de nacionalidad no especificada, etc. Es aquí donde la visualización de datos puede ayudarnos a entender mejor estas relaciones.\n",
    "\n",
    "## En síntesis\n",
    "\n",
    "Como verás, estas operaciones pueden ser más o menos complejas, dependiendo de los datos que tenemos disponibles y de lo que queremos hacer con ellos. Aunque estas líneas de código pueden ser ilegibles por momentos, es importante tener en cuenta que `pandas` es una herramienta muy poderosa que nos permite hacer análisis de datos de una manera muy sencilla.\n",
    "\n",
    "Te recomiendo que intentes replicar algunos de los ejemplos que hemos visto aquí y que te desafíes a hacer tus propios análisis de datos.\n",
    "\n",
    "¡Adelante!"
   ]
  }
 ],
 "metadata": {
  "jupytext": {
   "cell_metadata_filter": "-all",
   "formats": "md:myst",
   "text_representation": {
    "extension": ".md",
    "format_name": "myst",
    "format_version": 0.13,
    "jupytext_version": "1.14.0"
   }
  },
  "kernelspec": {
   "display_name": "Python 3 (ipykernel)",
   "language": "python",
   "name": "python3"
  },
  "language_info": {
   "codemirror_mode": {
    "name": "ipython",
    "version": 3
   },
   "file_extension": ".py",
   "mimetype": "text/x-python",
   "name": "python",
   "nbconvert_exporter": "python",
   "pygments_lexer": "ipython3",
   "version": "3.8.3"
  },
  "source_map": [
   14,
   30,
   35,
   39,
   43,
   46,
   52,
   54,
   58,
   61,
   65,
   68,
   76,
   87,
   91,
   118
  ]
 },
 "nbformat": 4,
 "nbformat_minor": 5
}