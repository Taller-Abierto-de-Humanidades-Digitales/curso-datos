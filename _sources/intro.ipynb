{
 "cells": [
  {
   "cell_type": "markdown",
   "id": "d7280953",
   "metadata": {},
   "source": [
    "# Te damos la bienvenida :)\n",
    "\n",
    "Nos encanta que hagas parte de esta experiencia de aprendizaje. Vamos a enfrentar el desafío de lograr visualizar datos para utilizarlos en nuestras actividades educativas y de investigación. Al finalizar este curso, tendrás la habilidad de identificar fuentes de datos, importarlas en un cuaderno de Google Colab, procesarlas y visualizarlas. Para ello, necesitarás conocer algunos conceptos básicos de Python, los cuales iremos aprendiendo a través de nuestra experiencia.\n",
    "\n",
    "El requisito fundamental para culminar exitosamente este curso es que tengas la curiosidad suficiente como para experimentar y aprender de los errores que se van a ir presentando en el curso.\n",
    "\n",
    "En términos de requerimientos prácticos solamente necesitas contar con una cuenta de Google (para crear tu cuaderno de Google Colab) y una cuenta de GitHub (para compartir tu actividad en los \"foros\").\n",
    "\n",
    "En este curso usaremos un conjunto de datos particular, con el cual podrás realizar una visualización. Pero, es imposible que ese conjunto de datos sea de interés para todos. Por esa razón, el proyecto final de este curso consistirá en la elaboración de una visualización realizada con un conjunto de datos que sea de tu interés.\n",
    "\n",
    "## Estructura del curso\n",
    "\n",
    "El curso se divide en cuatro secciones (una por cada semana):\n",
    "\n",
    "1. Datos abiertos: identificación e importación\n",
    "2. Análisis de estructuras de datos y preparación\n",
    "3. Procesamiento de datos\n",
    "4. Visualizaciones y publicación\n",
    "\n",
    "Los contenidos del curso (texto, código, datos, videos...) los encontrarás en este \"libro\".\n",
    "\n",
    "### Navegar en el cuaderno del curso\n",
    "\n",
    "Para navegar por este libro de contenidos, solamente debes tener en cuenta que en la columna de la izquierda encontrarás los temas de cada semana, capítulos y subcapítulos del curso.\n",
    "\n",
    "En la columna derecha, encontrarás un índice de los contenidos de la página que estés consultando.\n",
    "\n",
    "En la parte inferior de cada página encontrarás un botón para continuar o retroceder de página.\n",
    "\n",
    "Al finalizar cada tema, encontrarás un resumen de las habilidades adquiridas durante la semana. Es una buena idea revisar este resumen para conocer los temas en los cuáles centrarse durante la semana.\n",
    "\n",
    "## Actividades del curso\n",
    "\n",
    "Cada sección contiene una serie de actividades que te ayudarán a construir progresivamente tu proyecto:\n",
    "\n",
    "1. Crearás y te familiarizarás con los libros de Google Colab.\n",
    "2. Identificarás una fuente de datos y describirás su estructura.\n",
    "3. Importarás los datos en un cuaderno de Google Colab.\n",
    "4. Procesarás los datos a través de una serie de funciones con Python.\n",
    "5. Visualizarás los datos en una gráfica o tabla aprovechando la librería Plotly.\n",
    "6. Compartirás tu visualización.\n",
    "\n",
    "## Proyecto final\n",
    "\n",
    "El proyecto final lo presentarás en forma de un cuaderno de Google Colab que hayas realizado donde:\n",
    "\n",
    "* Se documente el proyecto.\n",
    "* Se realice paso a paso los procedimientos para la visualización de los datos.\n",
    "* Culmine con una visualización que pueda ser descargada y compartida.\n",
    "\n",
    "```{admonition} **Nota**\n",
    ":class: warning\n",
    "Este curso no tiene la posibilidad de dar una certificación. Es decir, la participación en estas actividades es totalmente voluntaria y no genera ningún compromiso por parte de ninguna institución a la cual pertenezca el autor de este curso.\n",
    "\n",
    "Estos materiales extienden el curso original ofrecido por el programa de formación docente y eduación continua de la CUAIEED-UNAM en el mes de agosto de 2022, y no suplen de ninguna manera el curso original.\n",
    "\n",
    "Cualquier duda que tengas al respecto, solamente deja una entrada en las [discusiones](https://github.com/Taller-Abierto-de-Humanidades-Digitales/curso-datos/discussions/new?category=q-a&title=Duda%20sobre%20el%20curso&body=Escribe%20aquí%20tu%20comentario.) del cuaderno.\n",
    "```\n",
    "\n",
    "## Contenido del curso\n",
    "\n",
    "```{tableofcontents}\n",
    "```"
   ]
  }
 ],
 "metadata": {
  "jupytext": {
   "cell_metadata_filter": "-all",
   "formats": "md:myst",
   "text_representation": {
    "extension": ".md",
    "format_name": "myst",
    "format_version": 0.13,
    "jupytext_version": "1.14.0"
   }
  },
  "kernelspec": {
   "display_name": "Python 3 (ipykernel)",
   "language": "python",
   "name": "python3"
  },
  "language_info": {
   "codemirror_mode": {
    "name": "ipython",
    "version": 3
   },
   "file_extension": ".py",
   "mimetype": "text/x-python",
   "name": "python",
   "nbconvert_exporter": "python",
   "pygments_lexer": "ipython3",
   "version": "3.8.3"
  },
  "source_map": [
   14
  ]
 },
 "nbformat": 4,
 "nbformat_minor": 5
}