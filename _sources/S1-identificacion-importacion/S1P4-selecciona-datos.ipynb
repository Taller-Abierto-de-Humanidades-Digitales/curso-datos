{
 "cells": [
  {
   "cell_type": "markdown",
   "id": "b4468bdd",
   "metadata": {},
   "source": [
    "# Actividad: Seleccionar tu fuente de datos\n",
    "\n",
    "Selecciona una fuente de datos que te sea de interés para analizar y visualizar. Comenta en este foro:\n",
    "\n",
    "- ¿Cuál es tu fuente de datos? (título, origen y enlace)\n",
    "- ¿Quién produjo tu fuente de datos?\n",
    "- ¿Cuál es la fecha de la última actualización de los datos?\n",
    "- ¿En qué formato de archivo se encuentra disponible? (csv, json, Excel)\n",
    "- ¿Por qué consideras que esta fuente de datos te será útil?\n",
    "\n",
    "Realiza tu aporte [en el foro](https://github.com/Taller-Abierto-de-Humanidades-Digitales/curso-datos/discussions/new?category=actividades&title=Actividad%20fuente%20de%20datos&body=El%20contenido%20de%20tu%20%20actividad.), comenta los aportes de los demás participantes y valóralos con las estrellas :D"
   ]
  }
 ],
 "metadata": {
  "jupytext": {
   "cell_metadata_filter": "-all",
   "formats": "md:myst",
   "text_representation": {
    "extension": ".md",
    "format_name": "myst",
    "format_version": 0.13,
    "jupytext_version": "1.14.0"
   }
  },
  "kernelspec": {
   "display_name": "Python 3 (ipykernel)",
   "language": "python",
   "name": "python3"
  },
  "language_info": {
   "codemirror_mode": {
    "name": "ipython",
    "version": 3
   },
   "file_extension": ".py",
   "mimetype": "text/x-python",
   "name": "python",
   "nbconvert_exporter": "python",
   "pygments_lexer": "ipython3",
   "version": "3.8.3"
  },
  "source_map": [
   14
  ]
 },
 "nbformat": 4,
 "nbformat_minor": 5
}