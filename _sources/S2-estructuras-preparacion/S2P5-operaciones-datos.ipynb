{
 "cells": [
  {
   "cell_type": "markdown",
   "id": "af79c2d9",
   "metadata": {},
   "source": [
    "# Variables cuantitativas y cualitativas\n",
    "\n",
    "Ya vimos en la sección anterior que identificar el tipo de datos es fundamental para comprender las mediciones u operaciones que podremos realizar con los datos.\n",
    "\n",
    "Vamos a intentar detallar un poco más lo anterior. En general, tendemos a asociar los datos cuantitativos con los valores numéricos, en tanto los cualitativos serían valores de texto. Por ejemplo:"
   ]
  },
  {
   "cell_type": "code",
   "execution_count": 1,
   "id": "3d1d0e3f",
   "metadata": {
    "tags": [
     "remove-cell"
    ]
   },
   "outputs": [
    {
     "name": "stdout",
     "output_type": "stream",
     "text": [
      "Requirement already satisfied: pandas in c:\\users\\jairo\\.virtualenvs\\temp\\lib\\site-packages (1.2.3)\n",
      "Requirement already satisfied: pytz>=2017.3 in c:\\users\\jairo\\.virtualenvs\\temp\\lib\\site-packages (from pandas) (2021.1)\n",
      "Requirement already satisfied: numpy>=1.16.5 in c:\\users\\jairo\\.virtualenvs\\temp\\lib\\site-packages (from pandas) (1.20.2)\n",
      "Requirement already satisfied: python-dateutil>=2.7.3 in c:\\users\\jairo\\.virtualenvs\\temp\\lib\\site-packages (from pandas) (2.8.2)\n",
      "Requirement already satisfied: six>=1.5 in c:\\users\\jairo\\.virtualenvs\\temp\\lib\\site-packages (from python-dateutil>=2.7.3->pandas) (1.15.0)\n"
     ]
    },
    {
     "name": "stderr",
     "output_type": "stream",
     "text": [
      "\n",
      "[notice] A new release of pip available: 22.2.2 -> 23.0\n",
      "[notice] To update, run: python.exe -m pip install --upgrade pip\n"
     ]
    },
    {
     "name": "stdout",
     "output_type": "stream",
     "text": [
      "Requirement already satisfied: numpy in c:\\users\\jairo\\.virtualenvs\\temp\\lib\\site-packages (1.20.2)\n"
     ]
    },
    {
     "name": "stderr",
     "output_type": "stream",
     "text": [
      "\n",
      "[notice] A new release of pip available: 22.2.2 -> 23.0\n",
      "[notice] To update, run: python.exe -m pip install --upgrade pip\n"
     ]
    }
   ],
   "source": [
    "!pip install pandas\n",
    "!pip install numpy"
   ]
  },
  {
   "cell_type": "code",
   "execution_count": 2,
   "id": "fed473a0",
   "metadata": {},
   "outputs": [],
   "source": [
    "valores_cualitativos = ['Pedro', 'Luisa', 'Argemiro']\n",
    "valores_cuantitativos = [1, 2, 3]"
   ]
  },
  {
   "cell_type": "markdown",
   "id": "3ca60fec",
   "metadata": {},
   "source": [
    "Sin embargo, no todo dato numérico es un valor cuantitativo. Por ejemplo:"
   ]
  },
  {
   "cell_type": "code",
   "execution_count": 3,
   "id": "4898d835",
   "metadata": {},
   "outputs": [],
   "source": [
    "valores_numericos_cualitativos = {'num pasaporte': '12345', 'numero de tarjeta de identidad': '123456789'}"
   ]
  },
  {
   "cell_type": "markdown",
   "id": "9b013c15",
   "metadata": {},
   "source": [
    "Sumar, restar o promediar números de identificación no tiene mucho sentido, por ello debemos considerar que en nuestros conjuntos de datos no solamente es el tipo de dato de Python el que tenemos que considerar, además debemos valorar si estos datos son cuantitativos o cualitativos.\n",
    "\n",
    "## Escalas de medición por variable\n",
    "\n",
    "Las escalas de medición nos indican las operaciones posibles que podemos realizar con los datos, según sean estos cualitativos o cuantitativos.\n",
    "\n",
    "### Escalas de medición para variables cualitativas\n",
    "\n",
    "Las escalas de medición para variables cualitativas son las siguientes:\n",
    "\n",
    "- **Nominal:** En este caso, podemos ordenar los valores de manera alfabética, a través de categorías o identificadores, pero solamente indicamos que son valores distintos."
   ]
  },
  {
   "cell_type": "code",
   "execution_count": 4,
   "id": "1520980b",
   "metadata": {},
   "outputs": [
    {
     "data": {
      "text/html": [
       "<div>\n",
       "<style scoped>\n",
       "    .dataframe tbody tr th:only-of-type {\n",
       "        vertical-align: middle;\n",
       "    }\n",
       "\n",
       "    .dataframe tbody tr th {\n",
       "        vertical-align: top;\n",
       "    }\n",
       "\n",
       "    .dataframe thead th {\n",
       "        text-align: right;\n",
       "    }\n",
       "</style>\n",
       "<table border=\"1\" class=\"dataframe\">\n",
       "  <thead>\n",
       "    <tr style=\"text-align: right;\">\n",
       "      <th></th>\n",
       "      <th>nombre</th>\n",
       "      <th>sexo</th>\n",
       "    </tr>\n",
       "  </thead>\n",
       "  <tbody>\n",
       "    <tr>\n",
       "      <th>0</th>\n",
       "      <td>Pedro</td>\n",
       "      <td>H</td>\n",
       "    </tr>\n",
       "    <tr>\n",
       "      <th>2</th>\n",
       "      <td>Argemiro</td>\n",
       "      <td>H</td>\n",
       "    </tr>\n",
       "    <tr>\n",
       "      <th>1</th>\n",
       "      <td>Luisa</td>\n",
       "      <td>M</td>\n",
       "    </tr>\n",
       "  </tbody>\n",
       "</table>\n",
       "</div>"
      ],
      "text/plain": [
       "     nombre sexo\n",
       "0     Pedro    H\n",
       "2  Argemiro    H\n",
       "1     Luisa    M"
      ]
     },
     "execution_count": 4,
     "metadata": {},
     "output_type": "execute_result"
    }
   ],
   "source": [
    "import pandas as pd\n",
    "\n",
    "df_nominal = pd.DataFrame({'nombre': valores_cualitativos, 'sexo': ['H', 'M', 'H']})\n",
    "df_nominal.sort_values(by='sexo', inplace=True)\n",
    "\n",
    "df_nominal"
   ]
  },
  {
   "cell_type": "markdown",
   "id": "809b5d52",
   "metadata": {},
   "source": [
    "- **Ordinal:** Este tipo de valores también pueden ser ordenados alfabéticamente, pero la diferencia es que hay una distinción de nivel entre los valores. El ejemplo más claro de este tipo es la escala de Likert:"
   ]
  },
  {
   "cell_type": "code",
   "execution_count": 5,
   "id": "816580f1",
   "metadata": {},
   "outputs": [
    {
     "data": {
      "text/html": [
       "<div>\n",
       "<style scoped>\n",
       "    .dataframe tbody tr th:only-of-type {\n",
       "        vertical-align: middle;\n",
       "    }\n",
       "\n",
       "    .dataframe tbody tr th {\n",
       "        vertical-align: top;\n",
       "    }\n",
       "\n",
       "    .dataframe thead th {\n",
       "        text-align: right;\n",
       "    }\n",
       "</style>\n",
       "<table border=\"1\" class=\"dataframe\">\n",
       "  <thead>\n",
       "    <tr style=\"text-align: right;\">\n",
       "      <th></th>\n",
       "      <th>nombre</th>\n",
       "      <th>satisfaccion</th>\n",
       "    </tr>\n",
       "  </thead>\n",
       "  <tbody>\n",
       "    <tr>\n",
       "      <th>2</th>\n",
       "      <td>Argemiro</td>\n",
       "      <td>1</td>\n",
       "    </tr>\n",
       "    <tr>\n",
       "      <th>1</th>\n",
       "      <td>Luisa</td>\n",
       "      <td>4</td>\n",
       "    </tr>\n",
       "    <tr>\n",
       "      <th>0</th>\n",
       "      <td>Pedro</td>\n",
       "      <td>5</td>\n",
       "    </tr>\n",
       "  </tbody>\n",
       "</table>\n",
       "</div>"
      ],
      "text/plain": [
       "     nombre satisfaccion\n",
       "2  Argemiro            1\n",
       "1     Luisa            4\n",
       "0     Pedro            5"
      ]
     },
     "execution_count": 5,
     "metadata": {},
     "output_type": "execute_result"
    }
   ],
   "source": [
    "df_ordinal = pd.DataFrame({'nombre': valores_cualitativos, 'satisfaccion': ['5', '4', '1']})\n",
    "df_ordinal.sort_values(by='satisfaccion', inplace=True)\n",
    "\n",
    "df_ordinal"
   ]
  },
  {
   "cell_type": "markdown",
   "id": "9f4e0729",
   "metadata": {},
   "source": [
    "En ambos casos podemos ordenar los datos y además realizar cálculos de frecuencias, por ejemplo:"
   ]
  },
  {
   "cell_type": "code",
   "execution_count": 6,
   "id": "12225a2f",
   "metadata": {},
   "outputs": [
    {
     "name": "stdout",
     "output_type": "stream",
     "text": [
      "1    17\n",
      "2    28\n",
      "3    13\n",
      "4    22\n",
      "5    20\n",
      "dtype: int64\n"
     ]
    }
   ],
   "source": [
    "import numpy as np\n",
    "lista_escala = np.random.randint(1, 6, size=100) # 100 valores aleatorios entre 1 y 5\n",
    "print(pd.value_counts(lista_escala).sort_index())"
   ]
  },
  {
   "cell_type": "markdown",
   "id": "aac8f2b8",
   "metadata": {},
   "source": [
    "También podemos calcular modas y medianas con tipos numéricos:"
   ]
  },
  {
   "cell_type": "code",
   "execution_count": 7,
   "id": "da110426",
   "metadata": {},
   "outputs": [
    {
     "name": "stdout",
     "output_type": "stream",
     "text": [
      "0    13\n",
      "1    17\n",
      "2    20\n",
      "3    22\n",
      "4    28\n",
      "dtype: int64\n",
      "20.0\n"
     ]
    }
   ],
   "source": [
    "print(pd.value_counts(lista_escala).sort_index().mode())\n",
    "print(pd.value_counts(lista_escala).sort_index().median())"
   ]
  },
  {
   "cell_type": "markdown",
   "id": "9569e281",
   "metadata": {},
   "source": [
    "### Escalas de medición para variables cuantitativas\n",
    "\n",
    "Las escalas de medición para variables cuantitativas son las siguientes:\n",
    "\n",
    "- **Intervalo:** Las escalas de intervalo nos ayudan a medir el \"espacio\" entre dos valores. En este ámbito podemos calcular los intervalos de fechas, o de temperatura. En estos cálculos no es relevante sumar la temperatura de ayer con la de hoy, ese es un dato falso; en cambio, podemos calcular si ayer fue un día menos cálido que hoy."
   ]
  },
  {
   "cell_type": "code",
   "execution_count": 8,
   "id": "91906a9f",
   "metadata": {},
   "outputs": [
    {
     "name": "stdout",
     "output_type": "stream",
     "text": [
      "23.71\n",
      "20\n",
      "25\n"
     ]
    }
   ],
   "source": [
    "df_intervalo = pd.DataFrame({'dia': ['lunes', 'martes', 'miércoles', 'jueves', 'viernes', 'sábado', 'domingo'], 'temperatura': [25, 20, 22, 24, 25, 25, 25]})\n",
    "print(round(df_intervalo['temperatura'].mean(), 2))\n",
    "print(df_intervalo['temperatura'].min())\n",
    "print(df_intervalo['temperatura'].max())"
   ]
  },
  {
   "cell_type": "markdown",
   "id": "c594c7c7",
   "metadata": {},
   "source": [
    "En nuestro ejemplo, la temperatura máxima es 25, la mínima es 20 y la media es 23.71.\n",
    "\n",
    "El sentido del valor del intervalo está asociado con la inexistencia de una ausencia de valores. Podemos decir que entre ayer y hoy pasaron 24 horas, pero no podemos afirmar que ayer fuera el día cero, o que antes de ayer no hubiese tiempo. Con la temperatura es similar, puede que la temperatura de enero sea la mitad de la de junio, pero no quiere decir que en enero no hubiese temperatura.\n",
    "\n",
    "Otro aspecto relevante en este tipo de escala es que hay valores negativos (por la misma razón que no hay un cero absoluto).\n",
    "\n",
    "- **Razón o proporción:** En este tipo de escala, los valores sí representan un cero absoluto, es decir, la ausencia de valor. Ejemplos típicos de estos valores son: la altura, el dinero, la población, la edad, entre otras. Identificar una escala de proporción está relacionado con saber si es lógico que un valor tenga un cero (incluso si hay un vlor negativo). Por ejemplo, decir que una persona tiene 0 pesos es totalmente posible, es decir, hay una ausencia de dinero. No es lo mismo que decir que hay 0 grados centígrados, ya que en ese caso no hay una ausencia de temperatura, tanto es así que hay 32° Fahrenheit, o 273.15 Kelvin. Tener 0 pesos en cambio no significa que tengamos un valor diferente en dólares o euros, por ejemplo.\n",
    "\n",
    "En términos de medidas de proporción, podemos aplicar las mismas operaciones que en los intervalos, además de dividir y multiplicar un valor. Matemáticamente también podemos multiplicar y dividir una escala de intervalo (25 grados Celcius por 2 = 50 grados Celcius, por ejemplo), pero esta relación no es lógica. 50 grados centígrados es el doble de 25 grados, pero no es el doble de calor que hay en 25 grados. Tiene sentido numéricamente, pero no en términos de la termodinámica.\n",
    "\n",
    "## En síntesis\n",
    "\n",
    "Las escalas de medición son muy relevantes al momento de hacer nuestro análisis, en parte porque determinan el tipo de operaciones estadísticas que podemos realizar con los datos, y sobre todo porque nos permiten identificcar si esas operaciones son lógicas o no. Esto es algo que una librería como `pandas` no puede realizar de manera automática, puesto que solamente puede saber si un dato pertenece a un tipo específico. En ese mismo sentido, tendremos en cuenta que hay operaciones que no representan la realidad aunque estadísticamente sean correctas.\n",
    "\n",
    "## Para saber más\n",
    "\n",
    "Las escalas de medición están muy relacionadas con los tipos de datos, pero son solamente la punta del iceberg en lo que se puede hacer con los datos. Para los propósitos de nuestro curso, es suficiente con acercarse a algún manual o libro de texto para estadística básica {cite}`bruce_practical_2020,humberto_estadistica_2015,hernandez_conceptos_2006`. También recomendaría el libro *The art of statistics* de David Spiegelhalter, en particular los tres primeros capítulos {cite}`spiegelhalter_art_2021`."
   ]
  }
 ],
 "metadata": {
  "jupytext": {
   "cell_metadata_filter": "-all",
   "formats": "md:myst",
   "text_representation": {
    "extension": ".md",
    "format_name": "myst",
    "format_version": 0.13,
    "jupytext_version": "1.14.1"
   }
  },
  "kernelspec": {
   "display_name": "Python 3 (ipykernel)",
   "language": "python",
   "name": "python3"
  },
  "language_info": {
   "codemirror_mode": {
    "name": "ipython",
    "version": 3
   },
   "file_extension": ".py",
   "mimetype": "text/x-python",
   "name": "python",
   "nbconvert_exporter": "python",
   "pygments_lexer": "ipython3",
   "version": "3.8.3"
  },
  "source_map": [
   14,
   22,
   28,
   31,
   35,
   37,
   51,
   58,
   62,
   67,
   71,
   75,
   79,
   82,
   90,
   95
  ]
 },
 "nbformat": 4,
 "nbformat_minor": 5
}