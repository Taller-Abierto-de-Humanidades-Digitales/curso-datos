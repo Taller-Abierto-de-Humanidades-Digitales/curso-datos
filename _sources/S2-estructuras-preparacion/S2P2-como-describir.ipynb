{
 "cells": [
  {
   "cell_type": "markdown",
   "id": "c6bff8cc",
   "metadata": {},
   "source": [
    "# ¿Cómo describir una fuente de datos?\n",
    "\n",
    "En la semana previa realizamos una descripción simple de nuestra fuente de datos con base en los metadatos provehidos por sus productores. Ahora, vamos a ver cómo podemos describir nuestra fuente de datos de una manera más detallada.\n",
    "\n",
    "## Contenido de la sección\n",
    "\n",
    "```{tableofcontents}\n",
    "```"
   ]
  }
 ],
 "metadata": {
  "jupytext": {
   "cell_metadata_filter": "-all",
   "formats": "md:myst",
   "text_representation": {
    "extension": ".md",
    "format_name": "myst",
    "format_version": 0.13,
    "jupytext_version": "1.14.1"
   }
  },
  "kernelspec": {
   "display_name": "Python 3 (ipykernel)",
   "language": "python",
   "name": "python3"
  },
  "language_info": {
   "codemirror_mode": {
    "name": "ipython",
    "version": 3
   },
   "file_extension": ".py",
   "mimetype": "text/x-python",
   "name": "python",
   "nbconvert_exporter": "python",
   "pygments_lexer": "ipython3",
   "version": "3.8.3"
  },
  "source_map": [
   14
  ]
 },
 "nbformat": 4,
 "nbformat_minor": 5
}